{
 "cells": [
  {
   "cell_type": "code",
   "execution_count": 13,
   "metadata": {},
   "outputs": [],
   "source": [
    "# Q1: list of suffixes\n",
    "def suffixList(seq):\n",
    "    suffixList = []\n",
    "    for i in range(len(seq)):\n",
    "        suffix = seq[i:]\n",
    "        suffixList.append(suffix)\n",
    "    return suffixList\n",
    "\n",
    "def checkSuffix(seq):\n",
    "    if not seq in suffixList:\n",
    "        print('This seq is not in the suffixList!')\n",
    "    else:\n",
    "        print('This seq is in the suffixList!')\n",
    "    "
   ]
  },
  {
   "cell_type": "code",
   "execution_count": 10,
   "metadata": {},
   "outputs": [
    {
     "name": "stdout",
     "output_type": "stream",
     "text": [
      "This seq is not in the suffixList!\n"
     ]
    }
   ],
   "source": [
    "suffixList = suffixList('CATATTAC')\n",
    "checkSuffix('CAT')\n"
   ]
  },
  {
   "cell_type": "code",
   "execution_count": 18,
   "metadata": {},
   "outputs": [],
   "source": [
    "# Q2: What's the longest prefix of CACACTGCACAC that is also a suffix?\n",
    "def prefixList(seq):\n",
    "    prefixList = []\n",
    "    for i in range(len(seq)):\n",
    "        suffix = seq[:i+1]\n",
    "        prefixList.append(suffix)\n",
    "    return prefixList\n",
    "\n",
    "def suffixList(seq):\n",
    "    suffixList = []\n",
    "    for i in range(len(seq)):\n",
    "        suffix = seq[i:]\n",
    "        suffixList.append(suffix)\n",
    "    return suffixList\n"
   ]
  },
  {
   "cell_type": "code",
   "execution_count": 19,
   "metadata": {},
   "outputs": [
    {
     "name": "stdout",
     "output_type": "stream",
     "text": [
      "['CACAC']\n"
     ]
    }
   ],
   "source": [
    "seq = 'CACACTGCACAC'\n",
    "prefixList = prefixList(seq)\n",
    "suffixList = suffixList(seq)\n",
    "\n",
    "matches = {}\n",
    "for prefix in prefixList:\n",
    "    if prefix in suffixList and prefix != seq:\n",
    "        matches[prefix] = len(prefix)\n",
    "        \n",
    "longestMatches = []\n",
    "longestMatchLen = max(matches.values())\n",
    "for match in matches.keys():\n",
    "    if matches[match] == longestMatchLen:\n",
    "        longestMatches.append(match)\n",
    "    \n",
    "print(longestMatches)\n"
   ]
  },
  {
   "cell_type": "code",
   "execution_count": 54,
   "metadata": {},
   "outputs": [],
   "source": [
    "# Q3: Which of the following is not a substring of GCTCAGCGGGGCA?\n",
    "def prefixList(seq):\n",
    "    prefixList = []\n",
    "    for i in range(len(seq)):\n",
    "        suffix = seq[:i+1]\n",
    "        prefixList.append(suffix)\n",
    "    return prefixList\n",
    "\n",
    "def suffixList(seq):\n",
    "    suffixList = []\n",
    "    for i in range(len(seq)):\n",
    "        suffix = seq[i:]\n",
    "        suffixList.append(suffix)\n",
    "    return suffixList\n",
    "\n",
    "def substrings(seq):\n",
    "    prefixes = prefixList(seq)\n",
    "    substrings = []\n",
    "    for prefix in prefixes:\n",
    "        substrings.extend(suffixList(prefix))\n",
    "    return substrings\n",
    "\n",
    "def notSubstring(substr, seq):\n",
    "    substrs = substrings(seq)\n",
    "    if substr not in substrs:\n",
    "        print('This sequence is not substring!')\n",
    "    else:\n",
    "        print('This sequence is substring')\n",
    "    "
   ]
  },
  {
   "cell_type": "code",
   "execution_count": 55,
   "metadata": {},
   "outputs": [
    {
     "name": "stdout",
     "output_type": "stream",
     "text": [
      "This sequence is not substring!\n"
     ]
    }
   ],
   "source": [
    "notSubstring('GCC', 'GCTCAGCGGGGCA')\n"
   ]
  },
  {
   "cell_type": "code",
   "execution_count": 32,
   "metadata": {},
   "outputs": [
    {
     "name": "stdout",
     "output_type": "stream",
     "text": [
      "The number of character comparison should be close to minimal: 112\n"
     ]
    }
   ],
   "source": [
    "# Q10\n",
    "# Make randome pattern len 20 and random template len 100\n",
    "import random\n",
    "p = ''.join(random.choice('ATCG') for _ in range(20))\n",
    "t = ''.join(random.choice('ATCG') for _ in range(100))\n",
    "\n",
    "\n",
    "# Matching\n",
    "def naive(p, t):\n",
    "    occurrences = []\n",
    "    count = 0\n",
    "    for i in range(len(t) - len(p) + 1):\n",
    "        match = True\n",
    "        for j in range(len(p)):\n",
    "            count += 1\n",
    "            if t[i+j] != p[j]:\n",
    "                match = False\n",
    "                break\n",
    "        if match:\n",
    "            occurrences.append(i)\n",
    "    return occurrences, count\n",
    "\n",
    "_, count = naive(p, t)\n",
    "\n",
    "print('The number of character comparison should be close to minimal:', count)\n",
    "\n"
   ]
  }
 ],
 "metadata": {
  "environment": {
   "kernel": "conda-root-py",
   "name": "workbench-notebooks.m117",
   "type": "gcloud",
   "uri": "us-docker.pkg.dev/deeplearning-platform-release/gcr.io/workbench-notebooks:m117"
  },
  "kernelspec": {
   "display_name": "Python 3 (ipykernel)",
   "language": "python",
   "name": "conda-root-py"
  },
  "language_info": {
   "codemirror_mode": {
    "name": "ipython",
    "version": 3
   },
   "file_extension": ".py",
   "mimetype": "text/x-python",
   "name": "python",
   "nbconvert_exporter": "python",
   "pygments_lexer": "ipython3",
   "version": "3.10.13"
  }
 },
 "nbformat": 4,
 "nbformat_minor": 4
}
