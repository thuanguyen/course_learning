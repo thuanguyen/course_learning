{
 "cells": [
  {
   "cell_type": "code",
   "execution_count": 1,
   "metadata": {
    "tags": []
   },
   "outputs": [
    {
     "name": "stdout",
     "output_type": "stream",
     "text": [
      "# conda environments:\n",
      "#\n",
      "base                  *  /opt/conda\n",
      "jupyterlab               /opt/conda/envs/jupyterlab\n",
      "prolig_0001              /opt/conda/envs/prolig_0001\n",
      "pytorch                  /opt/conda/envs/pytorch\n",
      "tensorflow               /opt/conda/envs/tensorflow\n",
      "\n"
     ]
    }
   ],
   "source": [
    "%%bash\n",
    "conda env list"
   ]
  },
  {
   "cell_type": "code",
   "execution_count": 1,
   "metadata": {},
   "outputs": [
    {
     "name": "stdout",
     "output_type": "stream",
     "text": [
      "Length of string s is: 4\n"
     ]
    }
   ],
   "source": [
    "### String definitions\n",
    "\n",
    "# |S| = number of characters in S\n",
    "s = 'ACGT'\n",
    "print('Length of string s is:', len(s))\n",
    "\n"
   ]
  },
  {
   "cell_type": "code",
   "execution_count": 2,
   "metadata": {},
   "outputs": [
    {
     "name": "stdout",
     "output_type": "stream",
     "text": [
      "Length of empty string: 0\n"
     ]
    }
   ],
   "source": [
    "# |Ɛ| = empty string\n",
    "print('Length of empty string:', len(''))\n",
    "\n"
   ]
  },
  {
   "cell_type": "code",
   "execution_count": 3,
   "metadata": {},
   "outputs": [
    {
     "name": "stdout",
     "output_type": "stream",
     "text": [
      "Position is offset; Offset 0: A\n",
      "Offset 2: G\n"
     ]
    }
   ],
   "source": [
    "# Positions within the string S are referred to with offsets\n",
    "print('Position is offset; Offset 0:', s[0])\n",
    "print('Offset 2:', s[2])\n"
   ]
  },
  {
   "cell_type": "code",
   "execution_count": 4,
   "metadata": {},
   "outputs": [
    {
     "name": "stdout",
     "output_type": "stream",
     "text": [
      "Concateation: AACCGGTT\n"
     ]
    }
   ],
   "source": [
    "# Concateation\n",
    "s = 'AACC'\n",
    "t = 'GGTT'\n",
    "print('Concateation:', s+t)\n"
   ]
  },
  {
   "cell_type": "code",
   "execution_count": 5,
   "metadata": {},
   "outputs": [
    {
     "name": "stdout",
     "output_type": "stream",
     "text": [
      "Substring: CCGG\n"
     ]
    }
   ],
   "source": [
    "# substring\n",
    "s = 'AACCGGTT'\n",
    "print('Substring:', s[2:6])\n",
    "\n"
   ]
  },
  {
   "cell_type": "code",
   "execution_count": 6,
   "metadata": {},
   "outputs": [
    {
     "name": "stdout",
     "output_type": "stream",
     "text": [
      "Prefix of string s: AACCGG\n",
      "The same result: AACCGG\n"
     ]
    }
   ],
   "source": [
    "# Prefix of the string\n",
    "print('Prefix of string s:', s[0:6])\n",
    "print('The same result:', s[:6])\n",
    "\n"
   ]
  },
  {
   "cell_type": "code",
   "execution_count": 7,
   "metadata": {},
   "outputs": [
    {
     "name": "stdout",
     "output_type": "stream",
     "text": [
      "Sufix: GGTT\n",
      "or the same result: GGTT\n",
      "or the same result: GGTT\n"
     ]
    }
   ],
   "source": [
    "# Subfix\n",
    "print('Sufix:', s[4:8])\n",
    "print('or the same result:', s[4:])\n",
    "print('or the same result:', s[-4:])\n"
   ]
  },
  {
   "cell_type": "code",
   "execution_count": null,
   "metadata": {},
   "outputs": [],
   "source": []
  }
 ],
 "metadata": {
  "environment": {
   "kernel": "conda-root-py",
   "name": "workbench-notebooks.m117",
   "type": "gcloud",
   "uri": "us-docker.pkg.dev/deeplearning-platform-release/gcr.io/workbench-notebooks:m117"
  },
  "kernelspec": {
   "display_name": "Python 3 (ipykernel)",
   "language": "python",
   "name": "conda-root-py"
  },
  "language_info": {
   "codemirror_mode": {
    "name": "ipython",
    "version": 3
   },
   "file_extension": ".py",
   "mimetype": "text/x-python",
   "name": "python",
   "nbconvert_exporter": "python",
   "pygments_lexer": "ipython3",
   "version": "3.10.13"
  }
 },
 "nbformat": 4,
 "nbformat_minor": 4
}
