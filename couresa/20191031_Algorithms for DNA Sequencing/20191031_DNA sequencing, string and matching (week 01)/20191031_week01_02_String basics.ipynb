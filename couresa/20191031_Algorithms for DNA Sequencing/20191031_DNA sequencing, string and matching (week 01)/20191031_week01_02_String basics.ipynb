{
 "cells": [
  {
   "cell_type": "code",
   "execution_count": 1,
   "metadata": {},
   "outputs": [
    {
     "name": "stdout",
     "output_type": "stream",
     "text": [
      "join list of strings together with empty space: ACGT\n",
      "join list of strings together with dot space: A.C.G.T\n"
     ]
    }
   ],
   "source": [
    "### String basic\n",
    "\n",
    "# Concatenate the list of string\n",
    "seqs = ['A', 'C', 'G', 'T']\n",
    "print('join list of strings together with empty space:', ''.join(seqs))\n",
    "print('join list of strings together with dot space:', '.'.join(seqs))\n"
   ]
  },
  {
   "cell_type": "code",
   "execution_count": 2,
   "metadata": {},
   "outputs": [
    {
     "name": "stdout",
     "output_type": "stream",
     "text": [
      "G\n"
     ]
    }
   ],
   "source": [
    "# Make random string\n",
    "import random\n",
    "print(random.choice('ACGT'))\n"
   ]
  },
  {
   "cell_type": "code",
   "execution_count": 3,
   "metadata": {},
   "outputs": [
    {
     "name": "stdout",
     "output_type": "stream",
     "text": [
      "A\n"
     ]
    }
   ],
   "source": [
    "import random\n",
    "random.seed(6) # give the same behavior everytime\n",
    "print(random.choice('ACGT'))\n"
   ]
  },
  {
   "cell_type": "code",
   "execution_count": 4,
   "metadata": {},
   "outputs": [
    {
     "name": "stdout",
     "output_type": "stream",
     "text": [
      "TGAACTGGAGTCTACGATGAGTGTACGAACGTCAGCTGGAACAGGCTTCCCACCAGGGTTGCTACTTATCATTTATTGTACGTTCAAAGGCGTGGTTTGT\n"
     ]
    }
   ],
   "source": [
    "# make a random nucleotide with a specific length\n",
    "import random\n",
    "seq = ''\n",
    "for _ in range(100): # use index as underscore because we do not care about the index :)\n",
    "    seq += random.choice('ACGT')\n",
    "print(seq)\n"
   ]
  },
  {
   "cell_type": "code",
   "execution_count": 7,
   "metadata": {},
   "outputs": [
    {
     "name": "stdout",
     "output_type": "stream",
     "text": [
      "ATACATTTCTGTTTGTCTAGTCGGAGTTCCTTTTGAAAAGAAACAATGTCAGAATGAATAAGCCGTTTCACCAACCATACCGACTAACAGAGCACTTTGT\n"
     ]
    }
   ],
   "source": [
    "# another way to generate a random sequence\n",
    "import random\n",
    "print(''.join(random.choice('ATCG') for _ in range(100)))\n"
   ]
  },
  {
   "cell_type": "code",
   "execution_count": null,
   "metadata": {},
   "outputs": [],
   "source": []
  }
 ],
 "metadata": {
  "kernelspec": {
   "display_name": "Python 3",
   "language": "python",
   "name": "python3"
  },
  "language_info": {
   "codemirror_mode": {
    "name": "ipython",
    "version": 3
   },
   "file_extension": ".py",
   "mimetype": "text/x-python",
   "name": "python",
   "nbconvert_exporter": "python",
   "pygments_lexer": "ipython3",
   "version": "3.5.3"
  }
 },
 "nbformat": 4,
 "nbformat_minor": 2
}
