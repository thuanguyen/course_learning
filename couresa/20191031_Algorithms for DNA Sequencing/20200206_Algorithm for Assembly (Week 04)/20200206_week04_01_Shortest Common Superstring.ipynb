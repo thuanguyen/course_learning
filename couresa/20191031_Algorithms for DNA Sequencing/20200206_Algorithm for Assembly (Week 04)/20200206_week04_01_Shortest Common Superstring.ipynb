{
 "cells": [
  {
   "cell_type": "markdown",
   "metadata": {},
   "source": [
    "# find overlap"
   ]
  },
  {
   "cell_type": "code",
   "execution_count": 36,
   "metadata": {},
   "outputs": [],
   "source": [
    "def overlap(a, b, min_length=3):\n",
    "    \"\"\" Return length of longest suffix of 'a' matching\n",
    "        a prefix of 'b' that is at least 'min_length'\n",
    "        characters long.  If no such overlap exists,\n",
    "        return 0. \"\"\"\n",
    "    start = 0  # start all the way at the left\n",
    "    while True:\n",
    "        start = a.find(b[:min_length], start)  # look for b's prefix in a\n",
    "        if start == -1:  # no more occurrences to right\n",
    "            return 0\n",
    "        # found occurrence; check for full suffix/prefix match\n",
    "        if b.startswith(a[start:]):\n",
    "            return len(a)-start\n",
    "        start += 1  # move just past previous match\n",
    "        \n",
    "        \n",
    "        "
   ]
  },
  {
   "cell_type": "markdown",
   "metadata": {},
   "source": [
    "# find the shortest common supper string - traditional method"
   ]
  },
  {
   "cell_type": "code",
   "execution_count": 37,
   "metadata": {},
   "outputs": [],
   "source": [
    "import itertools\n",
    "\n",
    "\n"
   ]
  },
  {
   "cell_type": "code",
   "execution_count": 38,
   "metadata": {},
   "outputs": [],
   "source": [
    "def scs(ss):\n",
    "    \"\"\" Returns shortest common superstring of given strings,\n",
    "        assuming no string is a strict substring of another \"\"\"\n",
    "    shortest_sup = None\n",
    "    for ssperm in itertools.permutations(ss):\n",
    "        sup = ssperm[0]\n",
    "        for i in range(len(ss)-1):\n",
    "            olen = overlap(ssperm[i], ssperm[i+1], min_length=1)\n",
    "            sup += ssperm[i+1][olen:]\n",
    "        if shortest_sup == None or len(shortest_sup) > len(sup):\n",
    "            shortest_sup = sup\n",
    "    return shortest_sup\n",
    "    \n",
    "    \n",
    "    "
   ]
  },
  {
   "cell_type": "code",
   "execution_count": 39,
   "metadata": {},
   "outputs": [
    {
     "data": {
      "text/plain": [
       "'ACGGATGAGCGAGCGGA'"
      ]
     },
     "execution_count": 39,
     "metadata": {},
     "output_type": "execute_result"
    }
   ],
   "source": [
    "scs(['ACGGATGAGC', 'GAGCGGA', 'GAGCGAG'])\n",
    "\n",
    "\n"
   ]
  },
  {
   "cell_type": "markdown",
   "metadata": {},
   "source": [
    "# Greedy SCS"
   ]
  },
  {
   "cell_type": "markdown",
   "metadata": {},
   "source": [
    "## course's code"
   ]
  },
  {
   "cell_type": "code",
   "execution_count": 56,
   "metadata": {},
   "outputs": [],
   "source": [
    "import itertools\n",
    "def pick_maximal_overlap(reads, k):\n",
    "    reada, readb = None, None\n",
    "    best_olen = 0\n",
    "    for a,b in itertools.permutations(reads, 2):\n",
    "        olen = overlap(a,b, min_length=k)\n",
    "        if olen > best_olen:\n",
    "            reada, readb = a, b\n",
    "            best_olen = olen\n",
    "    return reada, readb, best_olen"
   ]
  },
  {
   "cell_type": "code",
   "execution_count": 63,
   "metadata": {},
   "outputs": [],
   "source": [
    "def greedy_scs(reads, k):\n",
    "    read_a, read_b, olen = pick_maximal_overlap(reads, k)\n",
    "    while olen > 0:\n",
    "        reads.remove(read_a)\n",
    "        reads.remove(read_b)\n",
    "        reads.append(read_a + read_b[olen:])\n",
    "        read_a, read_b, olen = pick_maximal_overlap(reads, k)\n",
    "    return ''.join(reads)"
   ]
  },
  {
   "cell_type": "code",
   "execution_count": 64,
   "metadata": {},
   "outputs": [
    {
     "data": {
      "text/plain": [
       "'CABCA'"
      ]
     },
     "execution_count": 64,
     "metadata": {},
     "output_type": "execute_result"
    }
   ],
   "source": [
    "greedy_scs(['ABC', 'BCA', 'CAB'], 2)"
   ]
  },
  {
   "cell_type": "code",
   "execution_count": 70,
   "metadata": {},
   "outputs": [
    {
     "data": {
      "text/plain": [
       "'CDBCABCDA'"
      ]
     },
     "execution_count": 70,
     "metadata": {},
     "output_type": "execute_result"
    }
   ],
   "source": [
    "greedy_scs(['ABCD', 'CDBC', 'BCDA'], 1)"
   ]
  },
  {
   "cell_type": "code",
   "execution_count": 68,
   "metadata": {},
   "outputs": [
    {
     "data": {
      "text/plain": [
       "'ABCDBCDA'"
      ]
     },
     "execution_count": 68,
     "metadata": {},
     "output_type": "execute_result"
    }
   ],
   "source": [
    "scs(['ABCD', 'CDBC', 'BCDA'])"
   ]
  },
  {
   "cell_type": "markdown",
   "metadata": {},
   "source": [
    "## AI generated code"
   ]
  },
  {
   "cell_type": "code",
   "execution_count": 50,
   "metadata": {},
   "outputs": [
    {
     "name": "stdout",
     "output_type": "stream",
     "text": [
      "CABCA\n"
     ]
    }
   ],
   "source": [
    "# file: bioalgos/greedy_scs.py\n",
    "from __future__ import annotations\n",
    "\n",
    "from typing import List, Tuple, Optional\n",
    "import itertools\n",
    "\n",
    "\n",
    "def overlap(a: str, b: str, min_length: int = 1) -> int:\n",
    "    \"\"\"Longest suffix of a matching a prefix of b, length >= min_length; else 0.\"\"\"\n",
    "    if min_length <= 0:\n",
    "        return 0\n",
    "    start = 0\n",
    "    while True:\n",
    "        start = a.find(b[:min_length], start)\n",
    "        if start == -1:\n",
    "            return 0\n",
    "        if b.startswith(a[start:]):\n",
    "            return len(a) - start\n",
    "        start += 1\n",
    "\n",
    "\n",
    "def pick_maximal_overlap(reads: List[str], k: int) -> Tuple[Optional[int], Optional[int], int]:\n",
    "    \"\"\"\n",
    "    Return indices (i, j) giving the largest overlap of reads[i] -> reads[j] with length >= k,\n",
    "    plus that overlap length. If none, returns (None, None, 0).\n",
    "    \"\"\"\n",
    "    best_i = best_j = None\n",
    "    best_olen = 0\n",
    "    for i, j in itertools.permutations(range(len(reads)), 2):\n",
    "        olen = overlap(reads[i], reads[j], min_length=k)\n",
    "        if olen > best_olen:\n",
    "            best_i, best_j, best_olen = i, j, olen\n",
    "    return best_i, best_j, best_olen\n",
    "\n",
    "\n",
    "def greedy_scs(reads: List[str], k: int) -> str:\n",
    "    \"\"\"\n",
    "    Greedy SCS: repeatedly merge the pair with maximal suffix/prefix overlap (>= k).\n",
    "    If no overlap >= k remains, concatenates residual reads.\n",
    "    \"\"\"\n",
    "    if not reads:\n",
    "        return \"\"\n",
    "    reads = list(reads)  # work on a copy\n",
    "    while True:\n",
    "        i, j, olen = pick_maximal_overlap(reads, k)\n",
    "        if not olen:  # no overlap >= k\n",
    "            break\n",
    "        # Merge reads[i] -> reads[j] using the overlap; remove by index (delete larger index first).\n",
    "        merged = reads[i] + reads[j][olen:]\n",
    "        hi, lo = max(i, j), min(i, j)\n",
    "        del reads[hi]\n",
    "        del reads[lo]\n",
    "        reads.append(merged)\n",
    "    return \"\".join(reads)\n",
    "\n",
    "\n",
    "if __name__ == \"__main__\":\n",
    "    # Demo\n",
    "    print(greedy_scs(['ABC', 'BCA', 'CAB'], 2))  # Example: \"ABCAB\"\n"
   ]
  }
 ],
 "metadata": {
  "kernelspec": {
   "display_name": "Python [conda env:base] *",
   "language": "python",
   "name": "conda-base-py"
  },
  "language_info": {
   "codemirror_mode": {
    "name": "ipython",
    "version": 3
   },
   "file_extension": ".py",
   "mimetype": "text/x-python",
   "name": "python",
   "nbconvert_exporter": "python",
   "pygments_lexer": "ipython3",
   "version": "3.12.2"
  }
 },
 "nbformat": 4,
 "nbformat_minor": 4
}
