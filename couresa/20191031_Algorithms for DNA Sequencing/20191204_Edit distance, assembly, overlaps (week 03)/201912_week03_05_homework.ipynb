{
 "cells": [
  {
   "cell_type": "code",
   "execution_count": 23,
   "metadata": {},
   "outputs": [
    {
     "name": "stdout",
     "output_type": "stream",
     "text": [
      "--2020-01-04 00:56:01--  https://d28rh4a8wq0iu5.cloudfront.net/ads1/data/chr1.GRCh38.excerpt.fasta\n",
      "Resolving d28rh4a8wq0iu5.cloudfront.net (d28rh4a8wq0iu5.cloudfront.net)... 13.226.52.155, 13.226.52.168, 13.226.52.106, ...\n",
      "Connecting to d28rh4a8wq0iu5.cloudfront.net (d28rh4a8wq0iu5.cloudfront.net)|13.226.52.155|:443... connected.\n",
      "HTTP request sent, awaiting response... 200 OK\n",
      "Length: 810105 (791K) [application/octet-stream]\n",
      "Saving to: ‘chr1.GRCh38.excerpt.fasta’\n",
      "\n",
      "chr1.GRCh38.excerpt 100%[===================>] 791.12K  --.-KB/s    in 0.1s    \n",
      "\n",
      "2020-01-04 00:56:01 (6.14 MB/s) - ‘chr1.GRCh38.excerpt.fasta’ saved [810105/810105]\n",
      "\n"
     ]
    }
   ],
   "source": [
    "!wget --no-check https://d28rh4a8wq0iu5.cloudfront.net/ads1/data/chr1.GRCh38.excerpt.fasta\n",
    "    \n",
    "    \n"
   ]
  },
  {
   "cell_type": "code",
   "execution_count": 24,
   "metadata": {},
   "outputs": [
    {
     "data": {
      "text/plain": [
       "'TTGAATGCTGAAATCAGCAGGTAATATATGATAATAGAGAAAGCTATCCCGAAGGTGCATAGGTCAACAATACTTGAGCCTAACTCAGTAGATCCTAAAAGAAAGCAATTTTTGCTGCTAACCTAACATTTCACAATGTCTGGAGACATTTACAGTTCCCACAACCTATGGCAGTTACTGGCATCTACTAGAGGTCAGAG'"
      ]
     },
     "execution_count": 24,
     "metadata": {},
     "output_type": "execute_result"
    }
   ],
   "source": [
    "# readGenome\n",
    "def readGenome(filename):\n",
    "    genome = ''\n",
    "    with open(filename, 'r') as f:\n",
    "        for line in f:\n",
    "            if not line[0] == '>':\n",
    "                genome += line.rstrip()\n",
    "    return genome\n",
    "t = readGenome('chr1.GRCh38.excerpt.fasta')\n",
    "t[:200]\n",
    "\n"
   ]
  },
  {
   "cell_type": "code",
   "execution_count": 25,
   "metadata": {},
   "outputs": [],
   "source": [
    "def editDistApproMatch(p, t):\n",
    "    # Create distance matrix\n",
    "    D = []\n",
    "    for i in range(len(p)+1):\n",
    "        D.append([0]*(len(t)+1))\n",
    "    # Initialize first row of matrix\n",
    "    for i in range(len(p)+1):\n",
    "        D[i][0] = i\n",
    "    # Fill in the rest of the matrix\n",
    "    for i in range(1, len(p)+1):\n",
    "        for j in range(1, len(t)+1):\n",
    "            delt = 0 if p[i-1] == t[j-1] else 1\n",
    "            distHor = D[i][j-1] + 1\n",
    "            distVer = D[i-1][j] + 1\n",
    "            distDiag = D[i-1][j-1] + delt\n",
    "            D[i][j] = min(distHor, distVer, distDiag)\n",
    "    # Edit distance is the value in the bottom right corner of the matrix\n",
    "    return min(D[len(p)])\n",
    "\n",
    "\n"
   ]
  },
  {
   "cell_type": "code",
   "execution_count": 26,
   "metadata": {},
   "outputs": [
    {
     "name": "stdout",
     "output_type": "stream",
     "text": [
      "CPU times: user 0 ns, sys: 0 ns, total: 0 ns\n",
      "Wall time: 125 µs\n"
     ]
    },
    {
     "data": {
      "text/plain": [
       "2"
      ]
     },
     "execution_count": 26,
     "metadata": {},
     "output_type": "execute_result"
    }
   ],
   "source": [
    "%%time\n",
    "# check\n",
    "p = 'GCGTATGC'\n",
    "t = 'TATTGGCTATACGGTT'\n",
    "editDistApproMatch(p,t)\n",
    "\n"
   ]
  },
  {
   "cell_type": "code",
   "execution_count": 27,
   "metadata": {},
   "outputs": [],
   "source": [
    "# Q1: What is the edit distance of the best match between pattern GCTGATCGATCGTACGGCTGATCGATCGTACG\n",
    "# and the excerpt of human chromosome 1? (Don't consider reverse complements.)\n",
    "p = 'GCTGATCGATCGTACG'\n",
    "t = readGenome('chr1.GRCh38.excerpt.fasta')\n",
    "\n",
    "\n"
   ]
  },
  {
   "cell_type": "code",
   "execution_count": 28,
   "metadata": {},
   "outputs": [
    {
     "name": "stdout",
     "output_type": "stream",
     "text": [
      "CPU times: user 8.54 s, sys: 68 ms, total: 8.61 s\n",
      "Wall time: 8.64 s\n"
     ]
    },
    {
     "data": {
      "text/plain": [
       "3"
      ]
     },
     "execution_count": 28,
     "metadata": {},
     "output_type": "execute_result"
    }
   ],
   "source": [
    "%%time\n",
    "editDistApproMatch(p,t)\n",
    "\n",
    "\n"
   ]
  },
  {
   "cell_type": "code",
   "execution_count": 29,
   "metadata": {},
   "outputs": [],
   "source": [
    "# Q2: What is the edit distance of the best match between pattern GCTGATCGATCGTACGGCTGATCGATCGTACG\n",
    "# and the excerpt of human chromosome 1? (Don't consider reverse complements.)\n",
    "p = 'GATTTACCAGATTGAG'\n",
    "t = readGenome('chr1.GRCh38.excerpt.fasta')\n",
    "\n",
    "\n",
    "\n"
   ]
  },
  {
   "cell_type": "code",
   "execution_count": 30,
   "metadata": {},
   "outputs": [
    {
     "name": "stdout",
     "output_type": "stream",
     "text": [
      "CPU times: user 8.46 s, sys: 40 ms, total: 8.5 s\n",
      "Wall time: 8.51 s\n"
     ]
    },
    {
     "data": {
      "text/plain": [
       "2"
      ]
     },
     "execution_count": 30,
     "metadata": {},
     "output_type": "execute_result"
    }
   ],
   "source": [
    "%%time\n",
    "editDistApproMatch(p,t)\n",
    "\n",
    "\n"
   ]
  },
  {
   "cell_type": "code",
   "execution_count": 31,
   "metadata": {},
   "outputs": [],
   "source": [
    "def overlap(a, b, min_length=3):\n",
    "    \"\"\" Return length of longest suffix of 'a' matching\n",
    "        a prefix of 'b' that is at least 'min_length'\n",
    "        characters long.  If no such overlap exists,\n",
    "        return 0. \"\"\"\n",
    "    start = 0  # start all the way at the left\n",
    "    while True:\n",
    "        start = a.find(b[:min_length], start)  # look for b's prefix in a\n",
    "        if start == -1:  # no more occurrences to right\n",
    "            return 0\n",
    "        # found occurrence; check for full suffix/prefix match\n",
    "        if b.startswith(a[start:]):\n",
    "            return len(a)-start\n",
    "        start += 1  # move just past previous match\n",
    "        \n",
    "        \n",
    "        \n"
   ]
  },
  {
   "cell_type": "code",
   "execution_count": 32,
   "metadata": {},
   "outputs": [
    {
     "name": "stdout",
     "output_type": "stream",
     "text": [
      "--2020-01-04 00:56:18--  https://d28rh4a8wq0iu5.cloudfront.net/ads1/data/ERR266411_1.for_asm.fastq\n",
      "Resolving d28rh4a8wq0iu5.cloudfront.net (d28rh4a8wq0iu5.cloudfront.net)... 13.226.52.155, 13.226.52.168, 13.226.52.106, ...\n",
      "Connecting to d28rh4a8wq0iu5.cloudfront.net (d28rh4a8wq0iu5.cloudfront.net)|13.226.52.155|:443... connected.\n",
      "HTTP request sent, awaiting response... 200 OK\n",
      "Length: 2562951 (2.4M) [application/octet-stream]\n",
      "Saving to: ‘ERR266411_1.for_asm.fastq’\n",
      "\n",
      "ERR266411_1.for_asm 100%[===================>]   2.44M  14.8MB/s    in 0.2s    \n",
      "\n",
      "2020-01-04 00:56:19 (14.8 MB/s) - ‘ERR266411_1.for_asm.fastq’ saved [2562951/2562951]\n",
      "\n"
     ]
    }
   ],
   "source": [
    "# download sequence reads\n",
    "!wget --no-check https://d28rh4a8wq0iu5.cloudfront.net/ads1/data/ERR266411_1.for_asm.fastq\n",
    "\n",
    "\n"
   ]
  },
  {
   "cell_type": "code",
   "execution_count": 33,
   "metadata": {},
   "outputs": [],
   "source": [
    "# Read the fastq sequence\n",
    "def readFastq(filename):\n",
    "    sequences = []\n",
    "    qualities = []\n",
    "    with open(filename) as fh:\n",
    "        while True:\n",
    "            fh.readline()\n",
    "            seq = fh.readline().rstrip()\n",
    "            fh.readline()\n",
    "            qual = fh.readline().rstrip()\n",
    "            if len(seq) == 0:\n",
    "                break\n",
    "            sequences.append(seq)\n",
    "            qualities.append(qual)\n",
    "    return sequences, qualities\n",
    "\n",
    "\n"
   ]
  },
  {
   "cell_type": "code",
   "execution_count": 34,
   "metadata": {},
   "outputs": [],
   "source": [
    "reads, quals = readFastq('ERR266411_1.for_asm.fastq')\n",
    "\n",
    "\n",
    "\n"
   ]
  },
  {
   "cell_type": "code",
   "execution_count": 35,
   "metadata": {},
   "outputs": [
    {
     "data": {
      "text/plain": [
       "'TAAACAAGCAGTAGTAATTCCTGCTTTATCAAGATAATTTTTCGACTCATCAGAAATATCCGAAAGTGTTAACTTCTGCGTCATGGAAGCGATAAAACTC'"
      ]
     },
     "execution_count": 35,
     "metadata": {},
     "output_type": "execute_result"
    }
   ],
   "source": [
    "reads[0]\n",
    "\n",
    "\n"
   ]
  },
  {
   "cell_type": "code",
   "execution_count": 36,
   "metadata": {},
   "outputs": [],
   "source": [
    "# make index\n",
    "import bisect\n",
    "import sys\n",
    "class Index(object):\n",
    "    def __init__(self, t, k):\n",
    "        ''' Create index from all substrings of size 'length' '''\n",
    "        self.k = k  # k-mer length (k)\n",
    "        self.index = []\n",
    "        for i in range(len(t) - k + 1):  # for each k-mer\n",
    "            self.index.append((t[i:i+k], i))  # add (k-mer, offset) pair\n",
    "        self.index.sort()  # alphabetize by k-mer\n",
    "    \n",
    "    def query(self, p):\n",
    "        ''' Return index hits for first k-mer of P '''\n",
    "        kmer = p[:self.k]  # query with first k-mer\n",
    "        i = bisect.bisect_left(self.index, (kmer, -1))  # binary search\n",
    "        hits = []\n",
    "        while i < len(self.index):  # collect matching index entries\n",
    "            if self.index[i][0] != kmer:\n",
    "                break\n",
    "            hits.append(self.index[i][1])\n",
    "            i += 1\n",
    "        return hits\n",
    "\n",
    "\n",
    "\n"
   ]
  },
  {
   "cell_type": "code",
   "execution_count": 37,
   "metadata": {},
   "outputs": [],
   "source": [
    "kMers = {}\n",
    "for i in range(len(reads)):\n",
    "    index = Index(reads[i], k = 30)\n",
    "    for mer in index.index:\n",
    "        if mer[0] in kMers.keys():\n",
    "            kMers[mer[0]] = kMers[mer[0]] | set([i])\n",
    "        else:\n",
    "            kMers[mer[0]] = set([i])\n",
    "        \n",
    "        \n",
    "        \n"
   ]
  },
  {
   "cell_type": "code",
   "execution_count": 38,
   "metadata": {},
   "outputs": [],
   "source": [
    "kMersSortedIndex = sorted(kMers.keys())\n",
    "\n"
   ]
  },
  {
   "cell_type": "code",
   "execution_count": 39,
   "metadata": {},
   "outputs": [
    {
     "data": {
      "text/plain": [
       "['TTTTTTGACGAGTAACAAAGTTTGGATTGC',\n",
       " 'TTTTTTGACGAGTAACAAAGTTTGGATTGT',\n",
       " 'TTTTTTGACGAGTTACACAGTTTGGATTGC',\n",
       " 'TTTTTTGAGTGGTGCACTTATTCAAGAAAA',\n",
       " 'TTTTTTGATAAAGCAGGAATTACTACTGCT',\n",
       " 'TTTTTTGCCTGTTTGGTTCGCTTTGAGGAG',\n",
       " 'TTTTTTGGCGAGGGACAGAGGGTGGGTTGG',\n",
       " 'TTTTTTTCATGGTGGAGTTTCTCCTGTTGA',\n",
       " 'TTTTTTTGAGTGGTGCACTTATTCAAGAAA',\n",
       " 'TTTTTTTGATAAAGCAGGAATTACTACTGC']"
      ]
     },
     "execution_count": 39,
     "metadata": {},
     "output_type": "execute_result"
    }
   ],
   "source": [
    "kMersSortedIndex[-10:]\n",
    "\n",
    "\n"
   ]
  },
  {
   "cell_type": "code",
   "execution_count": 40,
   "metadata": {},
   "outputs": [],
   "source": [
    "def overlap(a, b, min_length=3):\n",
    "    \"\"\" Return length of longest suffix of 'a' matching\n",
    "        a prefix of 'b' that is at least 'min_length'\n",
    "        characters long.  If no such overlap exists,\n",
    "        return 0. \"\"\"\n",
    "    start = 0  # start all the way at the left\n",
    "    while True:\n",
    "        start = a.find(b[:min_length], start)  # look for b's prefix in a\n",
    "        if start == -1:  # no more occurrences to right\n",
    "            return 0\n",
    "        # found occurrence; check for full suffix/prefix match\n",
    "        if b.startswith(a[start:]):\n",
    "            return len(a)-start\n",
    "        start += 1  # move just past previous match\n",
    "        \n",
    "\n",
    "\n",
    "\n"
   ]
  },
  {
   "cell_type": "code",
   "execution_count": 41,
   "metadata": {},
   "outputs": [],
   "source": [
    "def kmer_overlap_map(reads, k):\n",
    "    olaps = {}\n",
    "    for b in range(len(reads)):\n",
    "        if reads[b][:30] in kMers.keys():\n",
    "            for a in kMers[reads[b][:30]]:\n",
    "                if a == b:\n",
    "                    continue\n",
    "                olen = overlap(reads[a], reads[b], min_length=k)\n",
    "                if olen > 0:\n",
    "                    olaps[(a, b)] = olen\n",
    "    return olaps\n",
    "\n",
    "\n",
    "\n"
   ]
  },
  {
   "cell_type": "code",
   "execution_count": 42,
   "metadata": {},
   "outputs": [
    {
     "name": "stdout",
     "output_type": "stream",
     "text": [
      "CPU times: user 5.41 s, sys: 116 ms, total: 5.52 s\n",
      "Wall time: 5.53 s\n"
     ]
    }
   ],
   "source": [
    "%%time\n",
    "olaps = kmer_overlap_map(reads, k=30)\n",
    "\n",
    "\n"
   ]
  },
  {
   "cell_type": "code",
   "execution_count": 44,
   "metadata": {},
   "outputs": [
    {
     "data": {
      "text/plain": [
       "904746"
      ]
     },
     "execution_count": 44,
     "metadata": {},
     "output_type": "execute_result"
    }
   ],
   "source": [
    "len(olaps)\n",
    "\n",
    "\n"
   ]
  },
  {
   "cell_type": "code",
   "execution_count": 45,
   "metadata": {},
   "outputs": [],
   "source": [
    "keys = list(olaps.keys())\n",
    "\n",
    "\n"
   ]
  },
  {
   "cell_type": "code",
   "execution_count": 46,
   "metadata": {},
   "outputs": [
    {
     "data": {
      "text/plain": [
       "[(2351, 2299),\n",
       " (8826, 7670),\n",
       " (4777, 5281),\n",
       " (9971, 9055),\n",
       " (6406, 7371),\n",
       " (3367, 4411),\n",
       " (2158, 2790),\n",
       " (4067, 2888),\n",
       " (4949, 4740),\n",
       " (9293, 8567)]"
      ]
     },
     "execution_count": 46,
     "metadata": {},
     "output_type": "execute_result"
    }
   ],
   "source": [
    "keys[:10]\n",
    "\n",
    "\n"
   ]
  },
  {
   "cell_type": "code",
   "execution_count": 47,
   "metadata": {},
   "outputs": [],
   "source": [
    "listNodeSuffixes = set()\n",
    "for i in range(len(keys)):\n",
    "    node = keys[i][0]\n",
    "    listNodeSuffixes.add(node)\n",
    "\n",
    "\n",
    "\n"
   ]
  },
  {
   "cell_type": "code",
   "execution_count": 48,
   "metadata": {},
   "outputs": [
    {
     "data": {
      "text/plain": [
       "7161"
      ]
     },
     "execution_count": 48,
     "metadata": {},
     "output_type": "execute_result"
    }
   ],
   "source": [
    "len(listNodeSuffixes)\n",
    "\n",
    "\n"
   ]
  },
  {
   "cell_type": "code",
   "execution_count": null,
   "metadata": {},
   "outputs": [],
   "source": []
  }
 ],
 "metadata": {
  "kernelspec": {
   "display_name": "Python 3",
   "language": "python",
   "name": "python3"
  },
  "language_info": {
   "codemirror_mode": {
    "name": "ipython",
    "version": 3
   },
   "file_extension": ".py",
   "mimetype": "text/x-python",
   "name": "python",
   "nbconvert_exporter": "python",
   "pygments_lexer": "ipython3",
   "version": "3.5.3"
  }
 },
 "nbformat": 4,
 "nbformat_minor": 2
}
