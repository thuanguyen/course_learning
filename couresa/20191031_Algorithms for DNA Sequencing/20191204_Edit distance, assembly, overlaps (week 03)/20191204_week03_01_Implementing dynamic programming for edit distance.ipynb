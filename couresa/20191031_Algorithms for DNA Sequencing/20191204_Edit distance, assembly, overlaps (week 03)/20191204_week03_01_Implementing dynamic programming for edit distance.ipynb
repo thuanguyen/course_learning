{
 "cells": [
  {
   "cell_type": "code",
   "execution_count": 1,
   "metadata": {},
   "outputs": [],
   "source": [
    "# This implementation will take too long time\n",
    "def editDistRecursive(x, y):\n",
    "    if len(x) == 0:\n",
    "        return len(y)\n",
    "    if len(y) == 0:\n",
    "        return len(x)\n",
    "    delt = 0 if x[-1] == y[-1] else 1\n",
    "    return min(editDistRecursive(x[:-1], y[:-1]) + delt,\n",
    "               editDistRecursive(x[:-1], y) + 1,\n",
    "               editDistRecursive(x, y[:-1]) + 1,\n",
    "              )\n",
    "\n",
    "\n"
   ]
  },
  {
   "cell_type": "code",
   "execution_count": 2,
   "metadata": {},
   "outputs": [
    {
     "name": "stdout",
     "output_type": "stream",
     "text": [
      "CPU times: user 5.23 s, sys: 0 ns, total: 5.23 s\n",
      "Wall time: 5.24 s\n"
     ]
    },
    {
     "data": {
      "text/plain": [
       "3"
      ]
     },
     "execution_count": 2,
     "metadata": {},
     "output_type": "execute_result"
    }
   ],
   "source": [
    "%%time\n",
    "x = 'shake spea'\n",
    "y = 'Shakespear'\n",
    "editDistRecursive(x, y)\n",
    "\n"
   ]
  },
  {
   "cell_type": "code",
   "execution_count": 3,
   "metadata": {},
   "outputs": [],
   "source": [
    "def editDistance(x, y):\n",
    "    \n",
    "    # Make the [0] matrix\n",
    "    D = []\n",
    "    for i in range(len(x) + 1):\n",
    "        D.append([0] * (len(y) + 1))\n",
    "        \n",
    "    # Initialize first row and column of matric\n",
    "    for i in range(len(x) + 1):\n",
    "        D[i][0] = i\n",
    "    for i in range(len(y) + 1):\n",
    "        D[0][i] = i\n",
    "    \n",
    "    # Fill in the rest of the matrix\n",
    "    for i in range(1, len(x) + 1):\n",
    "        for j in range(1, len(y) + 1):\n",
    "            delt     = 0 if x[i-1] == y[j-1] else 1\n",
    "            distVer  = D[i][j-1] + 1\n",
    "            distHor  = D[i-1][j] + 1\n",
    "            distDiag = D[i-1][j-1] + delt\n",
    "            D[i][j] = min(distVer, distHor, distDiag)\n",
    "            \n",
    "    # Edit distance is the value in the bottom right conner of the matrix\n",
    "    return D[-1][-1]\n",
    "            \n",
    "\n",
    "\n"
   ]
  },
  {
   "cell_type": "code",
   "execution_count": 4,
   "metadata": {},
   "outputs": [
    {
     "name": "stdout",
     "output_type": "stream",
     "text": [
      "CPU times: user 0 ns, sys: 0 ns, total: 0 ns\n",
      "Wall time: 103 µs\n"
     ]
    },
    {
     "data": {
      "text/plain": [
       "3"
      ]
     },
     "execution_count": 4,
     "metadata": {},
     "output_type": "execute_result"
    }
   ],
   "source": [
    "%%time\n",
    "x = 'shake spea'\n",
    "y = 'Shakespear'\n",
    "editDistance(x, y)\n",
    "\n",
    "\n"
   ]
  },
  {
   "cell_type": "code",
   "execution_count": null,
   "metadata": {},
   "outputs": [],
   "source": []
  }
 ],
 "metadata": {
  "kernelspec": {
   "display_name": "Python 3",
   "language": "python",
   "name": "python3"
  },
  "language_info": {
   "codemirror_mode": {
    "name": "ipython",
    "version": 3
   },
   "file_extension": ".py",
   "mimetype": "text/x-python",
   "name": "python",
   "nbconvert_exporter": "python",
   "pygments_lexer": "ipython3",
   "version": "3.5.3"
  }
 },
 "nbformat": 4,
 "nbformat_minor": 2
}
