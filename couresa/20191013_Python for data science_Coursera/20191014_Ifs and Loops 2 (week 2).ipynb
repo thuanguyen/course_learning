{
 "cells": [
  {
   "cell_type": "code",
   "execution_count": 1,
   "metadata": {},
   "outputs": [
    {
     "name": "stdout",
     "output_type": "stream",
     "text": [
      "Please enter DNA seuquence:ATGGCGACACACACATTCGCTTCGCCTCCCACCCGCTTCACCGTCGACATCCCACAGTCGGAACTCGACGAACTTCACTCGCGACTCGACAAGACCCGCTGGCCGGCGACAGAGATCGTTCCAGAGGATGGGACGGACGATCCGACGGCGTTTGGGCTCGGAGCAGGGCCGACGCTGCCGCTCATGAAGGAATTGGCGAAGGGTTGGCGCGAGTTCGACTGGAAAAAGGCGCAGGACCACCTCAACACCTTCGAGCACTACATGGTCGAAATTGAGGACCTCTCGATCCACTTCCTCCACCATCGCTCGACTCGCCCGAACGCTGTTCCCCTCATCCTCTGCCACGGCTGGCCAGGCCACTTTGGCGAGTTCCTGAACGTTATCCCGCTCTTGACGGAGCCGTCGGACCCCTCCGCTCAGGCGTTCCACGTCGTCGCCCCTTCGATGCCTGGCTATGCTTGGTCTTTGCCTCCTCCGTCCTCCAAGTGGAACATGCCTGACACCGCGAGGGTCTTCGACAAGCTCATGACCGGGCTTGGCTACGAGAAGTACATGGCGCAGGGCGGAGACTGGGGAAGCATCGCCGCTCGCTGCCTTGGATCGCTGCACAAGGACCATTGCAAAGCCGTCCACCTCAACTTCCTCCCCGTCTTCCCACCCGTCCCGATGTGGCTTATCAACCCGCACACGCTCCTTGCCTGGGCACCGCGCTTCCTCGTGCCGGAGAAGCAGGCTGCGCGTATGAAGCGCGGGTTGGCGTACCTTGAGAAGGGCTCCGCCTACTACGTCATGCAGCAGTTGACGCCTCGCACGCCTGCGTACGGCCTGACCGACAGTCCCGTCGGCTTGCTGGCCTGGATCGGCGAGAAGTTCGAGCCGACCATTCAGGAGGCGAGCAAGCAAGCCCAGCCGACCCTGACTCGCGACGAGCTCTACTTCACCTGCTCGCTCTACTGGTTCACCCGCTCAATCGGCACCTCCTTCCTTCCCTACTCGCTCAACCCGCACTTCACCACCTTCCTGACCGACAGCAAGTACCACCTGCCCAACTTTGCCCTCTCGCTTTACCCAGGCGAAATCTACTGCCCCGCCGAGCGGGACGCCAAGCGCACCGGCAACCTCAAGTGGATCAAGGACGCGCCTGAGGGAGGACACTTTGCTGCGCTCGAAAAGCCGGATGTGTTTGTCGAGCACCTCAGGGAGGCGTTTGGCGTCATGTGGGAGAAGGGCAGCAGCGGCCATCACCATCATCACCACTAG\n",
      "Donnor splice site candidate at position 42\n"
     ]
    }
   ],
   "source": [
    "# while loop\n",
    "\n",
    "dna = input('Please enter DNA seuquence:')\n",
    "pos = dna.find('GT', 0) # position of donor splice site\n",
    "\n",
    "while pos >-1 :\n",
    "    print('Donnor splice site candidate at position %d' %pos)\n",
    "    pos = dna.find('gt', pos+1)"
   ]
  },
  {
   "cell_type": "code",
   "execution_count": 2,
   "metadata": {},
   "outputs": [
    {
     "name": "stdout",
     "output_type": "stream",
     "text": [
      "attccgt 7\n",
      "agggggtttttcg 13\n",
      "gtagc 5\n"
     ]
    }
   ],
   "source": [
    "# for loop\n",
    "\n",
    "motifs = ['attccgt', 'agggggtttttcg', 'gtagc']\n",
    "for m in motifs:\n",
    "    print(m, len(m))"
   ]
  },
  {
   "cell_type": "code",
   "execution_count": 2,
   "metadata": {},
   "outputs": [
    {
     "name": "stdout",
     "output_type": "stream",
     "text": [
      "0\n",
      "1\n",
      "2\n",
      "3\n",
      "1\n",
      "3\n",
      "5\n",
      "7\n",
      "9\n",
      "\n",
      "\n",
      "protein contains invalid amino acid U at position 8\n",
      "protein contains invalid amino acid U at position 9\n",
      "protein contains invalid amino acid J at position 20\n",
      "\n",
      "\n",
      "this is not a valid protein sequence\n",
      "\n",
      "\n",
      "Our corrected protein sequence is: SDVIHRYKPAKSHGWYVCRSRFTWMVWWRFRSCRA\n",
      "\n",
      "\n",
      "2 is a prime number\n",
      "3 is a prime number\n",
      "4 equal 2 * 2\n",
      "5 is a prime number\n",
      "6 equal 2 * 3\n",
      "7 is a prime number\n",
      "8 equal 2 * 4\n",
      "9 equal 3 * 3\n"
     ]
    }
   ],
   "source": [
    "# range for sequence\n",
    "for i in range(4):\n",
    "    print(i)\n",
    "    \n",
    "for i in range(1,10,2): \n",
    "    print(i)\n",
    "    \n",
    "print('\\n')\n",
    "\n",
    "# Problem: find all characters in a given protein seuquence are valid amino acids\n",
    "protein = 'SDVIHRYKUUPAKSHGWYVCJRSRFTWMVWWRFRSCRA'\n",
    "for i in range(len(protein)): \n",
    "    if protein[i] not in 'ABCDEFGHIKLMNPQRSTVWXYZ': \n",
    "        print('protein contains invalid amino acid %s at position %d' %(protein[i], i))\n",
    "        \n",
    "print('\\n')\n",
    "\n",
    "# Breaking out of loops\n",
    "protein = 'SDVIHRYKUUPAKSHGWYVCJRSRFTWMVWWRFRSCRA'\n",
    "for i in range(len(protein)): \n",
    "    if protein[i] not in 'ABCDEFGHIKLMNPQRSTVWXYZ': \n",
    "        print('this is not a valid protein sequence') \n",
    "        break\n",
    "        \n",
    "print('\\n')\n",
    "\n",
    "# Continue statement\n",
    "# Problem: delete all invalid amino acid characters from a protein sequence\n",
    "protein = 'SDVIHRYKUUPAKSHGWYVCJRSRFTWMVWWRFRSCRA'\n",
    "corrected_protein = ''\n",
    "for i in range(len(protein)):\n",
    "    if protein[i] not in 'ABCDEFGHIKLMNPQRSTVWXYZ':\n",
    "        continue\n",
    "    corrected_protein = corrected_protein + protein[i]\n",
    "    \n",
    "print('Our corrected protein sequence is: %s' %corrected_protein)\n",
    "\n",
    "# Improve the readability of your code\n",
    "\n",
    "print('\\n')\n",
    "\n",
    "# else statement used with loops\n",
    "# Problem: find all prime numbers smaller than  given integer\n",
    "N = 10\n",
    "for y in range(2, N):\n",
    "    for x in range(2,y):\n",
    "        if y % x == 0:\n",
    "            print(y, 'equal' , x, '*',y//x)\n",
    "            break            \n",
    "    else:\n",
    "        # loop fell through without finding a factor\n",
    "        print(y, 'is a prime number')\n",
    "        \n",
    "print('\\n')\n",
    "\n",
    "# pass statement: does nothing\n",
    "\n",
    "    "
   ]
  },
  {
   "cell_type": "code",
   "execution_count": null,
   "metadata": {},
   "outputs": [],
   "source": []
  }
 ],
 "metadata": {
  "kernelspec": {
   "display_name": "Python 3",
   "language": "python",
   "name": "python3"
  },
  "language_info": {
   "codemirror_mode": {
    "name": "ipython",
    "version": 3
   },
   "file_extension": ".py",
   "mimetype": "text/x-python",
   "name": "python",
   "nbconvert_exporter": "python",
   "pygments_lexer": "ipython3",
   "version": "3.5.3"
  }
 },
 "nbformat": 4,
 "nbformat_minor": 2
}
