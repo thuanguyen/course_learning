{
 "cells": [
  {
   "cell_type": "code",
   "execution_count": 3,
   "metadata": {},
   "outputs": [
    {
     "name": "stdout",
     "output_type": "stream",
     "text": [
      "Help on function gc in module __main__:\n",
      "\n",
      "gc(dna)\n",
      "    this function compute the GC percentage of a DNA sequence\n",
      "\n"
     ]
    },
    {
     "data": {
      "text/plain": [
       "40.0"
      ]
     },
     "execution_count": 3,
     "metadata": {},
     "output_type": "execute_result"
    }
   ],
   "source": [
    "# function\n",
    "\n",
    "# problem: how to compute the GC percentage of a DNA sequence\n",
    "\n",
    "def gc(dna):\n",
    "    'this function compute the GC percentage of a DNA sequence'\n",
    "    nbases = dna.count('n') + dna.count('N')\n",
    "    gcpercent = float(dna.count('c') + dna.count('C') + dna.count('g') + dna.count('G')) * 100.0 / (len(dna) - nbases)\n",
    "    return gcpercent\n",
    "\n",
    "help(gc)\n",
    "\n",
    "gc('AAaGTnNAGTCC')"
   ]
  },
  {
   "cell_type": "code",
   "execution_count": null,
   "metadata": {},
   "outputs": [],
   "source": []
  }
 ],
 "metadata": {
  "kernelspec": {
   "display_name": "Python 3",
   "language": "python",
   "name": "python3"
  },
  "language_info": {
   "codemirror_mode": {
    "name": "ipython",
    "version": 3
   },
   "file_extension": ".py",
   "mimetype": "text/x-python",
   "name": "python",
   "nbconvert_exporter": "python",
   "pygments_lexer": "ipython3",
   "version": "3.5.3"
  }
 },
 "nbformat": 4,
 "nbformat_minor": 2
}
