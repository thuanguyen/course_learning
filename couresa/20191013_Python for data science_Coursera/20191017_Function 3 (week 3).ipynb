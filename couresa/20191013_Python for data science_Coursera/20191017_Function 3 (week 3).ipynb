{
 "cells": [
  {
   "cell_type": "code",
   "execution_count": 1,
   "metadata": {},
   "outputs": [
    {
     "data": {
      "text/plain": [
       "True"
      ]
     },
     "execution_count": 1,
     "metadata": {},
     "output_type": "execute_result"
    }
   ],
   "source": [
    "# Passing function arguments\n",
    "\n",
    "# Passing argument by position\n",
    "\n",
    "seq = 'tgggcctaggtaac'\n",
    "\n",
    "def has_stop_codon(dna, frame=0):\n",
    "    'This function checks if given dna sequence has in frame stop codon'\n",
    "    stop_codon_found = False\n",
    "    stop_codon = ['tga', 'tag', 'taa']\n",
    "    for i in range(frame, len(dna), 3):\n",
    "        codon = dna[i:i+3].lower()\n",
    "        if codon in stop_codon:\n",
    "            stop_codon_found = True\n",
    "            break\n",
    "    return stop_codon_found\n",
    "\n",
    "has_stop_codon(seq,1)\n",
    "\n",
    "has_stop_codon(frame=1)"
   ]
  },
  {
   "cell_type": "code",
   "execution_count": 13,
   "metadata": {},
   "outputs": [
    {
     "name": "stdout",
     "output_type": "stream",
     "text": [
      "AGT\n",
      "AT\n",
      "GCGGGGTGTGA\n"
     ]
    }
   ],
   "source": [
    "# Reverse a string\n",
    "\n",
    "dna = 'AGTGTGGGGCG'\n",
    "\n",
    "print(dna[0:3]) # Regular slices\n",
    "\n",
    "print(dna[0:3:2]) # extended slice\n",
    "\n",
    "print(dna[::-1]) # using slice for reversion"
   ]
  },
  {
   "cell_type": "code",
   "execution_count": 15,
   "metadata": {},
   "outputs": [
    {
     "name": "stdout",
     "output_type": "stream",
     "text": [
      "['A', 'G', 'T', 'G', 'T', 'G', 'T', 'G', 'G', 'G', 'G', 'C', 'G']\n",
      "['T', 'C', 'A', 'C', 'A', 'C', 'A', 'C', 'C', 'C', 'C', 'G', 'C']\n"
     ]
    }
   ],
   "source": [
    "# Complement a DNA sequence\n",
    "\n",
    "# syntax\n",
    "'''\n",
    "new_list = [operation(i) for i in old_list if filter(i)]\n",
    "\n",
    "or\n",
    "\n",
    "new_list = []\n",
    "for i in old_list:\n",
    "    if filter(i):\n",
    "        new_list.append(operation(i))\n",
    "'''\n",
    "\n",
    "# How to complement each letter in a DNA sequence\n",
    "\n",
    "dna = 'AGTGTGTGGGGCG'\n",
    "\n",
    "# Make a dictionary\n",
    "basecomplement = {'A':'T', 'T':'A', 'G':'C', 'C':'G', 'N':'N', 'a':'t', 't':'a', 'g':'c', 'c':'g', 'n':'n'}\n",
    "letters = list(dna)\n",
    "print(letters)\n",
    "\n",
    "# apply the syntax\n",
    "letters = [basecomplement[base] for base in letters]\n",
    "print(letters)\n",
    "    "
   ]
  },
  {
   "cell_type": "code",
   "execution_count": 22,
   "metadata": {},
   "outputs": [
    {
     "name": "stdout",
     "output_type": "stream",
     "text": [
      "['enzymes', 'and', 'other', 'proteins', 'come', 'in', 'many', 'shapes']\n",
      "['enzymes ', ' other proteins come in many shapes']\n"
     ]
    },
    {
     "data": {
      "text/plain": [
       "'enzymes-and-other-proteins-come-in-many-shapes'"
      ]
     },
     "execution_count": 22,
     "metadata": {},
     "output_type": "execute_result"
    }
   ],
   "source": [
    "# Split\n",
    "sentence = 'enzymes and other proteins come in many shapes'\n",
    "print(sentence.split())\n",
    "print(sentence.split('and'))\n",
    "\n",
    "# join\n",
    "'-'.join(['enzymes', 'and', 'other', 'proteins', 'come', 'in', 'many', 'shapes'])"
   ]
  },
  {
   "cell_type": "code",
   "execution_count": 16,
   "metadata": {},
   "outputs": [
    {
     "data": {
      "text/plain": [
       "'AAAGCGCTGTCCCT'"
      ]
     },
     "execution_count": 16,
     "metadata": {},
     "output_type": "execute_result"
    }
   ],
   "source": [
    "# A more complex function example\n",
    "def reverse_string(seq):\n",
    "    return seq[::-1]\n",
    "\n",
    "def complement(seq):\n",
    "    'Return the complementary sequence string.'\n",
    "    basecomplement = {'A':'T', 'T':'A', 'G':'C', 'C':'G', 'N':'N', 'a':'t', 't':'a', 'g':'c', 'c':'g', 'n':'n'}\n",
    "    letters = list(seq)\n",
    "    letters = [basecomplement[base] for base in letters]\n",
    "    return ''.join(letters)\n",
    "\n",
    "def reversecomplement(seq):\n",
    "    'Return reverse complement of the data string.'\n",
    "    seq = reverse_string(seq)\n",
    "    seq = complement(seq)\n",
    "    return seq\n",
    "\n",
    "reversecomplement('AGGGACAGCGCTTT')\n",
    "    "
   ]
  },
  {
   "cell_type": "code",
   "execution_count": null,
   "metadata": {},
   "outputs": [],
   "source": [
    "# Variable Number of Function Arguments\n",
    "\n",
    "# The function declaration\n",
    "def myfunction(first, second, thirf):\n",
    "    # do somthing with the 3 variables\n",
    "    ...\n",
    "\n",
    "# It is possible to declare functions with a variable of arguments suing the folloing syntax\n"
   ]
  }
 ],
 "metadata": {
  "kernelspec": {
   "display_name": "Python 3",
   "language": "python",
   "name": "python3"
  },
  "language_info": {
   "codemirror_mode": {
    "name": "ipython",
    "version": 3
   },
   "file_extension": ".py",
   "mimetype": "text/x-python",
   "name": "python",
   "nbconvert_exporter": "python",
   "pygments_lexer": "ipython3",
   "version": "3.5.3"
  }
 },
 "nbformat": 4,
 "nbformat_minor": 2
}
