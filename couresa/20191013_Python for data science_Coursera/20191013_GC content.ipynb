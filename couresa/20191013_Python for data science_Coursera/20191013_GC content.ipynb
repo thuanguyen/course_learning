{
 "cells": [
  {
   "cell_type": "code",
   "execution_count": 1,
   "metadata": {},
   "outputs": [
    {
     "name": "stdout",
     "output_type": "stream",
     "text": [
      "Enter a DNA sequence please: ATGAAAAAGCGTATCGGTATTGTTGGTGCAGGCACTGCCGGCCTCCATCTTGGTCTCTTCCTTCGTCAGCATGACGTCGACGTCACTGTGTACACTGATCGTAAGCCCGATGAGTACAGCGGACTGCGTCTCCTGAATACCGTTGCTCACAACGCGGTGACGGTGCAGCGGGAGGTTGCCCTCGACGTCAATGAGTGGCCGTCTGAGGAGTTTGGTTATTTCGGCCACTACTACTACGTAGGTGGGCCGCAGCCCATGCGTTTCTACGGTGATCTCAAGGCTCCCAGCCGTGCAGTGGACTACCGTCTCTACCAGCCGATGCTGATGCGTGCACTGGAAGCCAGGGGCGGCAAGTTCTGCTACGACGCGGTGTCTGCCGAAGATCTGGAAGGGCTGTCGGAGCAGTACGATCTGCTGGTTGTGTGCACTGGTAAATACGCCCTCGGCAAGGTGTTCGAGAAGCAGTCCGAAAACTCGCCCTTCGAGAAGCCGCAACGGGCACTGTGCGTTGGTCTCTTCAAGGGCATCAAGGAAGCACCGATTCGCGCGGTGACTATGTCCTTCTCGCCAGGGCATGGCGAGCTGATTGAGATTCCAACCCTGTCGTTCAATGGCATGAGCACAGCGCTGGTGCTCGAAAACCATATTGGTAGCGATCTGGAAGTTCTCGCCCACACCAAGTATGACGATGACCCGCGTGCGTTCCTCGATCTGATGCTGGAGAAGCTGGGTAAGCATCATCCTTCCGTTGCCGAGCGCATCGATCCGGCTGAGTTCGACCTTGCCAACAGTTCTCTGGACATCCTCCAGGGTGGTGTTGTGCCGGCATTCCGCGACGGTCATGCGACCCTCAATAACGGCAAAACCATCATTGGGCTGGGCGACATCCAGGCAACTGTCGATCCGGTCTTGGGCCAGGGCGCGAACATGGCGTCCTATGCGGCATGGATTCTGGGCGAGGAAATCCTTGCGCACTCTGTCTACGACCTGCGCTTCAGCGAACACCTGGAGCGTCGCCGCCAGGATCGCGTGCTGTGTGCCACGCGATGGACCAACTTCACTCTGAGCGCTCTCTCGGCACTTCCGCCGGAGTTCCTCGCCTTCCTTCAGATCCTGAGCCAGAGCCGTGAAATGGCTGATGAGTTCACGGACAACTTCAACTACCCGGAACGTCAGTGGGATCGCTTCTCCAGCCCGGAACGTATCGGACAGTGGTGCAGTCAGTTCGCACCAACTATCGCAGCATGA\n"
     ]
    }
   ],
   "source": [
    "# Input the sequences\n",
    "dna = input('Enter a DNA sequence please: ')"
   ]
  },
  {
   "cell_type": "code",
   "execution_count": 2,
   "metadata": {},
   "outputs": [],
   "source": [
    "# Count the number of G and C\n",
    "no_c = dna.count('C')\n",
    "no_g = dna.count('C')"
   ]
  },
  {
   "cell_type": "code",
   "execution_count": 3,
   "metadata": {},
   "outputs": [],
   "source": [
    "# Lenght of DNA sequence\n",
    "dna_lenght = len(dna)"
   ]
  },
  {
   "cell_type": "code",
   "execution_count": 6,
   "metadata": {},
   "outputs": [
    {
     "name": "stdout",
     "output_type": "stream",
     "text": [
      "The DNA seuqnece's GC concent is 57.532%\n"
     ]
    }
   ],
   "source": [
    "# Calculate GC% and print the results\n",
    "gc_perc = (no_c + no_g)/dna_lenght*100\n",
    "print('The DNA seuqnece\\'s GC concent is %5.3f%%' % gc_perc)"
   ]
  },
  {
   "cell_type": "code",
   "execution_count": null,
   "metadata": {},
   "outputs": [],
   "source": []
  }
 ],
 "metadata": {
  "kernelspec": {
   "display_name": "Python 3",
   "language": "python",
   "name": "python3"
  },
  "language_info": {
   "codemirror_mode": {
    "name": "ipython",
    "version": 3
   },
   "file_extension": ".py",
   "mimetype": "text/x-python",
   "name": "python",
   "nbconvert_exporter": "python",
   "pygments_lexer": "ipython3",
   "version": "3.5.3"
  }
 },
 "nbformat": 4,
 "nbformat_minor": 2
}
