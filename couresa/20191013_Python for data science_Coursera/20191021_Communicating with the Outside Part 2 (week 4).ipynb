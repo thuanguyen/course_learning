{
 "cells": [
  {
   "cell_type": "code",
   "execution_count": 9,
   "metadata": {},
   "outputs": [],
   "source": [
    "# Read a FASTA file\n",
    "\n",
    "# Problem: build a dictionary containg all sequences from a FASTA file\n",
    "\n",
    "try:\n",
    "    f = open('myfile.fa')\n",
    "except IOError:\n",
    "    print('File myfile.fa does not exits!!')"
   ]
  },
  {
   "cell_type": "code",
   "execution_count": 10,
   "metadata": {},
   "outputs": [
    {
     "name": "stdout",
     "output_type": "stream",
     "text": [
      "{'yul': 'ATCGATCGATCGTACGATCG', 'derice': 'ACTGACTAGCTAGCTAACTG', 'junior': 'CATCGATCGTACGTACGTAG', 'sanka': 'GCATCGTAGCTAGCTACGAT'}\n"
     ]
    }
   ],
   "source": [
    "# Go to the main loop\n",
    "\n",
    "seqs = {}\n",
    "for line in f:\n",
    "    # let's discard the new line at the end (if any)\n",
    "    line = line.rstrip()\n",
    "    # distinguish header from sequence\n",
    "    if line[0] == '>':\n",
    "        words = line.split()\n",
    "        name = words[0][1:]\n",
    "        seqs[name] = ''\n",
    "    else: # sequence, not header\n",
    "        seqs[name] = seqs[name] + line\n",
    "f.close()\n",
    "\n",
    "print(seqs)"
   ]
  },
  {
   "cell_type": "code",
   "execution_count": null,
   "metadata": {},
   "outputs": [],
   "source": []
  }
 ],
 "metadata": {
  "kernelspec": {
   "display_name": "Python 3",
   "language": "python",
   "name": "python3"
  },
  "language_info": {
   "codemirror_mode": {
    "name": "ipython",
    "version": 3
   },
   "file_extension": ".py",
   "mimetype": "text/x-python",
   "name": "python",
   "nbconvert_exporter": "python",
   "pygments_lexer": "ipython3",
   "version": "3.5.3"
  }
 },
 "nbformat": 4,
 "nbformat_minor": 2
}
