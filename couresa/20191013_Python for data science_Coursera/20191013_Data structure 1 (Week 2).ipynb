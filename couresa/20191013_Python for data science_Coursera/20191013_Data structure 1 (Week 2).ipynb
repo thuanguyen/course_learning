{
 "cells": [
  {
   "cell_type": "code",
   "execution_count": 27,
   "metadata": {},
   "outputs": [
    {
     "name": "stdout",
     "output_type": "stream",
     "text": [
      "['gene', 5.16e-08, 0.000138511, 7.33e-08]\n"
     ]
    }
   ],
   "source": [
    "# Create the list\n",
    "gene_exp = ['gene', 5.16e-08, 0.000138511, 7.33e-08]\n",
    "print(gene_exp)"
   ]
  },
  {
   "cell_type": "code",
   "execution_count": 28,
   "metadata": {},
   "outputs": [
    {
     "name": "stdout",
     "output_type": "stream",
     "text": [
      "0.000138511\n",
      "7.33e-08\n"
     ]
    }
   ],
   "source": [
    "# Access individual elements\n",
    "print(gene_exp[2])\n",
    "print(gene_exp[-1])"
   ]
  },
  {
   "cell_type": "code",
   "execution_count": 29,
   "metadata": {},
   "outputs": [
    {
     "name": "stdout",
     "output_type": "stream",
     "text": [
      "['Lif', 5.16e-08, 0.000138511, 7.33e-08]\n"
     ]
    }
   ],
   "source": [
    "# Change value of element\n",
    "gene_exp[0] = 'Lif'\n",
    "print(gene_exp)"
   ]
  },
  {
   "cell_type": "code",
   "execution_count": 30,
   "metadata": {},
   "outputs": [
    {
     "ename": "TypeError",
     "evalue": "'str' object does not support item assignment",
     "output_type": "error",
     "traceback": [
      "\u001b[0;31m---------------------------------------------------------------------------\u001b[0m",
      "\u001b[0;31mTypeError\u001b[0m                                 Traceback (most recent call last)",
      "\u001b[0;32m<ipython-input-30-565b91d3d9d8>\u001b[0m in \u001b[0;36m<module>\u001b[0;34m\u001b[0m\n\u001b[1;32m      1\u001b[0m \u001b[0;31m# Don't change element in a string\u001b[0m\u001b[0;34m\u001b[0m\u001b[0;34m\u001b[0m\u001b[0m\n\u001b[1;32m      2\u001b[0m \u001b[0mmotif\u001b[0m \u001b[0;34m=\u001b[0m \u001b[0;34m'nacggggtc'\u001b[0m\u001b[0;34m\u001b[0m\u001b[0m\n\u001b[0;32m----> 3\u001b[0;31m \u001b[0mmotif\u001b[0m\u001b[0;34m[\u001b[0m\u001b[0;36m0\u001b[0m\u001b[0;34m]\u001b[0m \u001b[0;34m=\u001b[0m \u001b[0;34m'a'\u001b[0m\u001b[0;34m\u001b[0m\u001b[0m\n\u001b[0m",
      "\u001b[0;31mTypeError\u001b[0m: 'str' object does not support item assignment"
     ]
    }
   ],
   "source": [
    "# Don't change element in a string\n",
    "motif = 'nacggggtc'\n",
    "motif[0] = 'a'"
   ]
  },
  {
   "cell_type": "code",
   "execution_count": 31,
   "metadata": {},
   "outputs": [
    {
     "name": "stdout",
     "output_type": "stream",
     "text": [
      "[5.16e-08, 0.000138511, 7.33e-08]\n",
      "['Lif', 5.16e-08, 0.000138511, 7.33e-08]\n"
     ]
    }
   ],
   "source": [
    "# Slicing the list\n",
    "print(gene_exp[-3:])\n",
    "\n",
    "# Special slice\n",
    "print(gene_exp[:])"
   ]
  },
  {
   "cell_type": "code",
   "execution_count": 32,
   "metadata": {},
   "outputs": [
    {
     "name": "stdout",
     "output_type": "stream",
     "text": [
      "['Lif', 6.09e-07, 7.33e-08]\n"
     ]
    }
   ],
   "source": [
    "# Assignment to slices\n",
    "gene_exp[1:3] = [6.09e-07]\n",
    "print(gene_exp)"
   ]
  },
  {
   "cell_type": "code",
   "execution_count": 33,
   "metadata": {},
   "outputs": [
    {
     "name": "stdout",
     "output_type": "stream",
     "text": [
      "['Lif', 6.09e-07, 7.33e-08, 5.16e-08, 0.000138511]\n"
     ]
    }
   ],
   "source": [
    "# Concatenation\n",
    "print(gene_exp + [5.16e-08, 0.000138511])"
   ]
  },
  {
   "cell_type": "code",
   "execution_count": 34,
   "metadata": {},
   "outputs": [
    {
     "name": "stdout",
     "output_type": "stream",
     "text": [
      "3\n"
     ]
    }
   ],
   "source": [
    "# Len() function for list\n",
    "print(len(gene_exp))"
   ]
  },
  {
   "cell_type": "code",
   "execution_count": 35,
   "metadata": {},
   "outputs": [
    {
     "name": "stdout",
     "output_type": "stream",
     "text": [
      "['Lif', 7.33e-08]\n"
     ]
    }
   ],
   "source": [
    "# Deletion\n",
    "del gene_exp[1]\n",
    "print(gene_exp)"
   ]
  },
  {
   "cell_type": "code",
   "execution_count": 36,
   "metadata": {},
   "outputs": [
    {
     "name": "stdout",
     "output_type": "stream",
     "text": [
      "['Lif', 7.33e-08, 5.16e-08, 0.000138511]\n",
      "1 0\n",
      "[0.000138511, 5.16e-08, 7.33e-08, 'Lif']\n"
     ]
    }
   ],
   "source": [
    "# List as object\n",
    "\n",
    "#add more elements\n",
    "gene_exp.extend([5.16e-08, 0.000138511])\n",
    "print(gene_exp)\n",
    "\n",
    "# Count the number of times an element appears in a list\n",
    "print(gene_exp.count('Lif'), gene_exp.count('gene'))\n",
    "\n",
    "# Reverse all elements in the list\n",
    "gene_exp.reverse()\n",
    "print(gene_exp)"
   ]
  },
  {
   "cell_type": "code",
   "execution_count": 1,
   "metadata": {},
   "outputs": [
    {
     "name": "stdout",
     "output_type": "stream",
     "text": [
      "['a', 'b', 'c', 'd', 'e']\n",
      "e\n"
     ]
    }
   ],
   "source": [
    "# List as stacks\n",
    "\n",
    "# Append\n",
    "stack = ['a', 'b', 'c', 'd']\n",
    "stack.append('e')\n",
    "print(stack)\n",
    "\n",
    "# Pop\n",
    "elem = stack.pop()\n",
    "print(elem)"
   ]
  },
  {
   "cell_type": "code",
   "execution_count": 48,
   "metadata": {},
   "outputs": [
    {
     "name": "stdout",
     "output_type": "stream",
     "text": [
      "[3, 31, 123, 1, 5]\n",
      "[1, 3, 5, 31, 123]\n",
      "['A', 'T', 'a', 'c', 'g']\n"
     ]
    }
   ],
   "source": [
    "# Sorting lists\n",
    "\n",
    "# sorted build-in function\n",
    "myList = [3, 31, 123, 1, 5]\n",
    "sorted(myList)\n",
    "print(myList)\n",
    "\n",
    "# sort() method\n",
    "myList.sort()\n",
    "print(myList)\n",
    "\n",
    "# The elements in the list don't need to be numbers\n",
    "myList = ['c', 'g', 'T', 'a', 'A']\n",
    "print(sorted(myList))"
   ]
  },
  {
   "cell_type": "code",
   "execution_count": null,
   "metadata": {},
   "outputs": [],
   "source": []
  }
 ],
 "metadata": {
  "kernelspec": {
   "display_name": "Python 3",
   "language": "python",
   "name": "python3"
  },
  "language_info": {
   "codemirror_mode": {
    "name": "ipython",
    "version": 3
   },
   "file_extension": ".py",
   "mimetype": "text/x-python",
   "name": "python",
   "nbconvert_exporter": "python",
   "pygments_lexer": "ipython3",
   "version": "3.5.3"
  }
 },
 "nbformat": 4,
 "nbformat_minor": 2
}
