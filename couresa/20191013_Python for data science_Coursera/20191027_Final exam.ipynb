{
 "cells": [
  {
   "cell_type": "code",
   "execution_count": 53,
   "metadata": {},
   "outputs": [
    {
     "name": "stdout",
     "output_type": "stream",
     "text": [
      "Number of records is: 18\n"
     ]
    }
   ],
   "source": [
    "# Q1: How many records are in the file?\n",
    "\n",
    "f = open('dna2.fasta')\n",
    "\n",
    "i=0\n",
    "for line in f:\n",
    "    if line[0] == '>':\n",
    "        i+=1\n",
    "print('Number of records is: %i' %i)\n",
    "\n",
    "f.close()\n",
    "\n"
   ]
  },
  {
   "cell_type": "code",
   "execution_count": 54,
   "metadata": {},
   "outputs": [
    {
     "name": "stdout",
     "output_type": "stream",
     "text": [
      "{'gi|142022655|gb|EQ086233.1|91': 4635, 'gi|142022655|gb|EQ086233.1|88': 890, 'gi|142022655|gb|EQ086233.1|4': 2095, 'gi|142022655|gb|EQ086233.1|255': 4894, 'gi|142022655|gb|EQ086233.1|527': 2646, 'gi|142022655|gb|EQ086233.1|293': 4338, 'gi|142022655|gb|EQ086233.1|304': 1151, 'gi|142022655|gb|EQ086233.1|45': 3511, 'gi|142022655|gb|EQ086233.1|346': 115, 'gi|142022655|gb|EQ086233.1|454': 4564, 'gi|142022655|gb|EQ086233.1|16': 4804, 'gi|142022655|gb|EQ086233.1|75': 1352, 'gi|142022655|gb|EQ086233.1|322': 442, 'gi|142022655|gb|EQ086233.1|594': 967, 'gi|142022655|gb|EQ086233.1|396': 4076, 'gi|142022655|gb|EQ086233.1|250': 2867, 'gi|142022655|gb|EQ086233.1|277': 1432, 'gi|142022655|gb|EQ086233.1|584': 964}\n",
      "\n",
      "The longest sequence has 4894 nt.\n",
      "Identifier of the longest sequence is gi|142022655|gb|EQ086233.1|255\n",
      "\n",
      "The shortest sequence has 115 nt.\n",
      "Identifier of the shortest sequence is gi|142022655|gb|EQ086233.1|346\n"
     ]
    }
   ],
   "source": [
    "# Q2: What are the lengths of the sequences in the file?\n",
    "f = open('dna2.fasta')\n",
    "\n",
    "seqs={}\n",
    "for line in f:\n",
    "    line = line.rstrip()\n",
    "    if line[0] == '>':\n",
    "        words = line.split()\n",
    "        name = words[0][1:]\n",
    "        seqs[name]= 0\n",
    "    else:\n",
    "        seqs[name] = seqs[name] + len(line)\n",
    "f.close()\n",
    "print(seqs)\n",
    "print('\\nThe longest sequence has %i nt.' % max(seqs.values()))\n",
    "for i in seqs.keys():\n",
    "    if seqs[i] == max(seqs.values()):\n",
    "        print('Identifier of the longest sequence is %s' %i)\n",
    "print('\\nThe shortest sequence has %i nt.' % min(seqs.values()))\n",
    "for i in seqs.keys():\n",
    "    if seqs[i] == min(seqs.values()):\n",
    "        print('Identifier of the shortest sequence is %s' %i)\n",
    "        \n",
    "        \n",
    "        "
   ]
  },
  {
   "cell_type": "code",
   "execution_count": 12,
   "metadata": {},
   "outputs": [
    {
     "name": "stdout",
     "output_type": "stream",
     "text": [
      "{'ATGCGCATGGCTCGTTAG': 18, 'ATGGCTCGTTAG': 12}\n",
      "AAAGCGCTGTCCCT\n"
     ]
    }
   ],
   "source": [
    "#Q3: define the function to find start and stop codon\n",
    "ORFs = {}\n",
    "def get_ORFs(seq):\n",
    "    start_codon = 'ATG'\n",
    "    stop_codons = ['TAA', 'TAG', 'TGA']\n",
    "    begin=0\n",
    "    while seq.find(start_codon, begin) > 0:\n",
    "        start_nt = seq.find(start_codon, begin)\n",
    "        for i in range(start_nt, len(seq), 3):\n",
    "            codon = seq[i : (i+3)]\n",
    "            if codon in stop_codons:\n",
    "                ORF = seq[start_nt: (i + 3)]\n",
    "                ORFs[ORF] = len(ORF)\n",
    "                break\n",
    "        begin=start_nt+1\n",
    "    return(ORFs)\n",
    "\n",
    "'''def get_ORFs(seq):\n",
    "    start_codons = ['ATG', 'atg']\n",
    "    stop_codons = ['TAA', 'TAG', 'TGA']\n",
    "    begin=2\n",
    "    for i in range(begin, len(seq), 3):\n",
    "        codon1 = seq[i : (i+3)]\n",
    "        if codon1 in start_codons:\n",
    "            for j in range(i + 3, len(seq), 3):\n",
    "                codon2 = seq[j : (j+3)]\n",
    "                if codon2 in stop_codons:\n",
    "                    ORF = seq[i: (j + 3)]\n",
    "                    ORFs[ORF] = len(ORF)\n",
    "                    break\n",
    "    return(ORFs)'''\n",
    "\n",
    "print(get_ORFs('AGGGATGCGCATGGCTCGTTAGGCGC'))\n",
    "\n",
    "# Define reverse complement\n",
    "def reverse_string(seq):\n",
    "    return seq[::-1]\n",
    "\n",
    "def complement(seq):\n",
    "    'Return the complementary sequence string.'\n",
    "    basecomplement = {'A':'T', 'T':'A', 'G':'C', 'C':'G', 'N':'N', 'a':'t', 't':'a', 'g':'c', 'c':'g', 'n':'n'}\n",
    "    letters = list(seq)\n",
    "    letters = [basecomplement[base] for base in letters]\n",
    "    return ''.join(letters)\n",
    "\n",
    "def reversecomplement(seq):\n",
    "    'Return reverse complement of the data string.'\n",
    "    seq = reverse_string(seq)\n",
    "    seq = complement(seq)\n",
    "    return seq\n",
    "\n",
    "print(reversecomplement('AGGGACAGCGCTTT'))\n",
    "\n",
    "\n"
   ]
  },
  {
   "cell_type": "code",
   "execution_count": 13,
   "metadata": {},
   "outputs": [
    {
     "name": "stdout",
     "output_type": "stream",
     "text": [
      "\n",
      "The length of the longest ORF in the file is 2394\n",
      "\n",
      "The identifier of the sequence containing the longest ORF is gi|142022655|gb|EQ086233.1|45\n",
      "\n",
      "Starting position is 385\n"
     ]
    }
   ],
   "source": [
    "'''\n",
    "Q3:  what is the length of the longest ORF in the file?\n",
    "What is the identifier of the sequence containing the longest ORF?\n",
    "'''\n",
    "\n",
    "from Bio.Seq import Seq\n",
    "from Bio.Alphabet import IUPAC\n",
    "\n",
    "f = open('dna2.fasta')\n",
    "\n",
    "seqs={}\n",
    "for line in f:\n",
    "    line = line.rstrip()\n",
    "    if line[0] == '>':\n",
    "        words = line.split()\n",
    "        name = words[0][1:]\n",
    "        seqs[name]= ''\n",
    "    else:\n",
    "        seqs[name] = seqs[name] + line\n",
    "f.close()\n",
    "\n",
    "ORFs = {}\n",
    "\n",
    "for seq in seqs.values():\n",
    "    ORFs = get_ORFs(seq)\n",
    "    '''ORFs = get_ORFs(reversecomplement(seq))'''\n",
    "\n",
    "print('\\nThe length of the longest ORF in the file is %i' % max(ORFs.values()))\n",
    "\n",
    "for orf in ORFs.keys():\n",
    "    if ORFs[orf] == max(ORFs.values()):\n",
    "        for seq in seqs.values():\n",
    "            if orf in seq:\n",
    "                for id in seqs.keys():\n",
    "                    if seqs[id] == seq:\n",
    "                        print('\\nThe identifier of the sequence containing the longest ORF is %s' % id)\n",
    "                        print('\\nStarting position is %i' % (seq.find(orf)+1))\n",
    "            '''elif orf in reversecomplement(seq):\n",
    "                for id in seqs.keys():\n",
    "                    if seqs[id] == seq:\n",
    "                        print('\\nThe identifier of the sequence containing the longest ORF is %s' % id)'''    \n",
    "                        \n",
    "                        "
   ]
  },
  {
   "cell_type": "code",
   "execution_count": 14,
   "metadata": {},
   "outputs": [
    {
     "name": "stdout",
     "output_type": "stream",
     "text": [
      "(1644, 'ATGCGGGCCATCCTGCATCGCCGCCTTTCGTTCCACCCGGGCCGGCATCGAGTGATGCCGGCGTTGACGTTTTCGTGGAGTGAGTCAGATGAATCACGCAGCGAATCCCGCCGATCCCGATCGCGCCGCGGCGCAGGGCGGCAGCCTGTACAACGACGATCTCGCGCCGACGACGCCGGCGCAGCGCACGTGGAAGTGGTATCACTTCGCGGCGCTGTGGGTCGGGATGGTGATGAACATCGCGTCGTACATGCTCGCGGCCGGGCTGATCCAGGAAGGCATGTCGCCGTGGCAGGCGGTGACGACGGTGCTGCTCGGCAACCTGATCGTGCTCGTGCCGATGCTGCTGATCGGCCATGCGGGCGCGAAGCACGGGATTCCGTACGCGGTGCTCGTGCGCGCGTCGTTCGGCACGCAGGGGGCGAAGCTGCCGGCGCTGCTGCGCGCGATCGTCGCGTGCGGCTGGTACGGGATCCAGACCTGGCTCGGCGGCAGCGCGATCTATACGCTGCTGAACATCCTGACCGGCAACGCGCTGCATGGCGCCGCGCTGCCGGTCATCGGCATCGGGTTCGGGCAGCTCGCATGCTTCCTCGTGTTCTGGGCGCTGCAGCTCTACTTCATCTGGCATGGCACCGATTCGATCCGCTGGCTCGAAAGCTGGTCGGCGCCGATCAAGGTCGTGATGTGCGTGGCGCTGGTGTGGTGGGCAACGTCGAAGGCGGGCGGCTTCGGCACGATGCTGTCGGCGCCGTCGCAGTTTGCCGCAGGCGGCAAGAAAGCCGGGCTGTTCTGGGCGACCTTCTGGCCGGGGCTGACCGCGATGGTCGGCTTCTGGGCGACGCTCGCGCTGAACATCCCCGACTTCACGCGCTTCGCGCATTCGCAGCGCGACCAGGTGATCGGCCAGTCGATCGGGCTGCCGTTGCCGATGGCGCTGCTGTCGGTGGTGTCGGTCGTCGTGACGTCGGCGACCGTCGTGATCTACGGCAACGCGATCTGGGATCCGATCGACCTGACGAGCCGGATGACGGGCATCGGCGTGGGCATCGCGCTCGTGATCCTCACGCTCGACACGATGTGCTGCAACCTCGCCGCGAATCTCGTCGGCCCGGCGTACGACTTCTCGAGCCTGTGGCCGAAGGCGATCTCGTACCGCACCGGCGGGATGATCACCGCGACGCTCGCGATCGTGATGATGCCGTGGAAGATCCTCGCGACGACGGACGGCTACATCTTCACCTGGCTCGTCGGCTACTCGGCGCTGCTCGGGCCCGTGGCGGGGATCCTGATGGTCGACTACTTCCTGATTCGCGGCACGCGGCTCGACACGCGCGCGCTGTTCGACGAGCGCGGCGGCTTCAGCTACGCGCGCGGCTGGAACCCGGCCGCGCTGGCCGCGCTCGCGGTCGGCGTGCTGCCGAACCTGCCCGGCTTCCTGCACACGGCGTTTCCGGCGTCGTTTCCGAACGTGCCGGCGTTCTTCAACACGCTTTACACGTACGCGTGGTTCGTCGGCCTCGTGCTGGCGTCATGCGTGTACGGCACCTGGATGAAGTGGCGCGCCGGACAGCACGCGCAGATCGCGAGCGCCTGATTCGGCACCCGACAGTCAACGAGGAGGCAACCCCATGGCAATCCTGA', 1439)\n"
     ]
    }
   ],
   "source": [
    "'''Q4. For a given sequence identifier, what is the longest ORF contained in the sequence represented by that identifier?\n",
    "What is the starting position of the longest ORF in the sequence that contains it?'''\n",
    "\n",
    "longest_ORF = ''\n",
    "starting_position = 0\n",
    "def get_longest_ORFs(seq):\n",
    "    start_codon = 'ATG'\n",
    "    stop_codons = ['TAA', 'TAG', 'TGA']\n",
    "    begin=0\n",
    "    longest_length = 0\n",
    "    while seq.find(start_codon, begin) > 0:\n",
    "        start_nt = seq.find(start_codon, begin)\n",
    "        for i in range(start_nt, len(seq), 3):\n",
    "            codon = seq[i : (i+3)]\n",
    "            if codon in stop_codons:\n",
    "                ORF = seq[start_nt: (i + 3)]\n",
    "                ORFs[ORF] = len(ORF)\n",
    "                if len(ORF) > longest_length:\n",
    "                    longest_length = len(ORF)\n",
    "                    longest_ORF = ORF\n",
    "                    starting_position = start_nt\n",
    "                break\n",
    "        begin=start_nt+1\n",
    "    return(longest_length, longest_ORF, starting_position)\n",
    "\n",
    "seq1 = seqs['gi|142022655|gb|EQ086233.1|16']\n",
    "\n",
    "print(get_longest_ORFs(seq1))\n",
    "\n",
    "\n"
   ]
  },
  {
   "cell_type": "code",
   "execution_count": null,
   "metadata": {},
   "outputs": [],
   "source": [
    "'''Q6: A repeat is a substring of a DNA sequence that occurs in multiple copies (more than one) somewhere in\n",
    "the sequence. Although repeats can occur on both the forward and reverse strands of the DNA sequence,\n",
    "we will only consider repeats on the forward strand here. Also we will allow repeats to overlap themselves.\n",
    "For example, the sequence ACACA contains two copies of the sequence ACA - once at position 1 (index 0 in Python),\n",
    "and once at position 3. Given a length n, your program should be able to identify all repeats of length n in all \n",
    "sequences in the FASTA file. Your program should also determine how many times each repeat occurs in the file, \n",
    "and which is the most frequent repeat of a given length.'''\n",
    "\n",
    "\n",
    "\n"
   ]
  },
  {
   "cell_type": "code",
   "execution_count": 1,
   "metadata": {},
   "outputs": [
    {
     "name": "stdout",
     "output_type": "stream",
     "text": [
      "5\n",
      "{'GCCGCG': 2}\n"
     ]
    }
   ],
   "source": [
    "# Q6. Find repeat in an sequence\n",
    "\n",
    "def string_count(string, str_to_search_for):\n",
    "      count = 0\n",
    "      for x in range(len(string) - len(str_to_search_for) + 1):\n",
    "           if string[x:x+len(str_to_search_for)] == str_to_search_for:\n",
    "                count += 1\n",
    "      return count\n",
    "\n",
    "\n",
    "print(string_count('1011101111','11'))\n",
    "\n",
    "def find_repeat(seq, repeat_lenght):\n",
    "    repeat_seqs = {}\n",
    "    for i in range(len(seq)-repeat_lenght+1):\n",
    "        random_seq = seq[i : (i+repeat_lenght)]\n",
    "        if random_seq not in repeat_seqs.keys():\n",
    "            if string_count(seq, random_seq) > 1:\n",
    "                repeat_count = string_count(seq, random_seq)\n",
    "                repeat_seqs[random_seq] = repeat_count\n",
    "    return(repeat_seqs)\n",
    "\n",
    "print(find_repeat('GCCGCGCCGCG', 6)) #7 repeats\n",
    "\n",
    "\n",
    "\n"
   ]
  },
  {
   "cell_type": "code",
   "execution_count": 17,
   "metadata": {},
   "outputs": [
    {
     "name": "stdout",
     "output_type": "stream",
     "text": [
      "The most frequently occurring repeat of length 7 in all sequences is CGCGCCG\n",
      "There are 1 repeat has maximum occurence\n",
      "The number of times that repeat occurs in all sequences is 59\n"
     ]
    }
   ],
   "source": [
    "# Find the most frequently occurring repeat of length 6 in all sequences. How many times does it occur in all?\n",
    "# Make seqs again\n",
    "f = open('dna2.fasta')\n",
    "seqs={}\n",
    "for line in f:\n",
    "    line = line.rstrip()\n",
    "    if line[0] == '>':\n",
    "        words = line.split()\n",
    "        name = words[0][1:]\n",
    "        seqs[name]= ''\n",
    "    else:\n",
    "        seqs[name] = seqs[name] + line\n",
    "f.close()\n",
    "\n",
    "# Program\n",
    "repeat_length = 7\n",
    "repeat_seqs = {}\n",
    "for seq in seqs.values():\n",
    "    repeat_individual = find_repeat(seq, repeat_length)\n",
    "    for i in repeat_individual.keys():\n",
    "        if i in repeat_seqs.keys():\n",
    "            repeat_seqs[i] = repeat_seqs[i] + repeat_individual[i]\n",
    "        else:\n",
    "            repeat_seqs[i] = repeat_individual[i]\n",
    "            \n",
    "count = 0\n",
    "for seq in repeat_seqs.keys():\n",
    "    if repeat_seqs[seq] == max(repeat_seqs.values()):\n",
    "        count+=1\n",
    "        print('The most frequently occurring repeat of length 7 in all sequences is %s' % seq)\n",
    "        print('There are %i repeat has maximum occurence' %count)\n",
    "        \n",
    "        \n",
    "max_repeat_time = max(repeat_seqs.values())\n",
    "print('The number of times that repeat occurs in all sequences is %i' % max_repeat_time)\n",
    "    \n",
    "    \n",
    "    \n",
    "    "
   ]
  },
  {
   "cell_type": "code",
   "execution_count": null,
   "metadata": {},
   "outputs": [],
   "source": []
  }
 ],
 "metadata": {
  "kernelspec": {
   "display_name": "Python 3",
   "language": "python",
   "name": "python3"
  },
  "language_info": {
   "codemirror_mode": {
    "name": "ipython",
    "version": 3
   },
   "file_extension": ".py",
   "mimetype": "text/x-python",
   "name": "python",
   "nbconvert_exporter": "python",
   "pygments_lexer": "ipython3",
   "version": "3.5.3"
  }
 },
 "nbformat": 4,
 "nbformat_minor": 2
}
