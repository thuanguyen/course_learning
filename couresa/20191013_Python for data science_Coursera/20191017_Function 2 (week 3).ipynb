{
 "cells": [
  {
   "cell_type": "code",
   "execution_count": 7,
   "metadata": {},
   "outputs": [
    {
     "name": "stdout",
     "output_type": "stream",
     "text": [
      "Enter a DNA sequence, please:atgagcggccggct\n",
      "Input sequence has no in frame stop codon.\n"
     ]
    }
   ],
   "source": [
    "# Boolean function\n",
    "\n",
    "# Problem: write the program that checks if a given DNA sequence contains an in-frame stop codon\n",
    "\n",
    "# define has_stop_codon fucntion here\n",
    "\n",
    "# dna is atgagcggccggct\n",
    "\n",
    "def has_stop_codon(dna):\n",
    "    'This function checks if given dna sequence has in frame stop codon'\n",
    "    stop_codon_found = False\n",
    "    stop_codon = ['tga', 'tag', 'taa']\n",
    "    for i in range(0, len(dna), 3):\n",
    "        codon = dna[i:i+3].lower()\n",
    "        if codon in stop_codon:\n",
    "            stop_codon_found = True\n",
    "            break\n",
    "    return stop_codon_found\n",
    "\n",
    "dna = input('Enter a DNA sequence, please:')\n",
    "\n",
    "if(has_stop_codon(dna)):\n",
    "    print('Input sequence has an in frame stop codon.')\n",
    "else:\n",
    "    print('Input sequence has no in frame stop codon.')"
   ]
  },
  {
   "cell_type": "code",
   "execution_count": 17,
   "metadata": {},
   "outputs": [
    {
     "name": "stdout",
     "output_type": "stream",
     "text": [
      "Enter a DNA sequence, please: atgagcggccggct\n",
      "Enter a frame, please:\n"
     ]
    },
    {
     "ename": "ValueError",
     "evalue": "invalid literal for int() with base 10: ''",
     "output_type": "error",
     "traceback": [
      "\u001b[0;31m---------------------------------------------------------------------------\u001b[0m",
      "\u001b[0;31mValueError\u001b[0m                                Traceback (most recent call last)",
      "\u001b[0;32m<ipython-input-17-981ccf367b86>\u001b[0m in \u001b[0;36m<module>\u001b[0;34m\u001b[0m\n\u001b[1;32m     14\u001b[0m \u001b[0mdna\u001b[0m \u001b[0;34m=\u001b[0m \u001b[0minput\u001b[0m\u001b[0;34m(\u001b[0m\u001b[0;34m'Enter a DNA sequence, please: '\u001b[0m\u001b[0;34m)\u001b[0m\u001b[0;34m\u001b[0m\u001b[0m\n\u001b[1;32m     15\u001b[0m \u001b[0mframe\u001b[0m \u001b[0;34m=\u001b[0m \u001b[0minput\u001b[0m\u001b[0;34m(\u001b[0m\u001b[0;34m'Enter a frame, please:'\u001b[0m\u001b[0;34m)\u001b[0m\u001b[0;34m\u001b[0m\u001b[0m\n\u001b[0;32m---> 16\u001b[0;31m \u001b[0mframe\u001b[0m \u001b[0;34m=\u001b[0m \u001b[0mint\u001b[0m\u001b[0;34m(\u001b[0m\u001b[0mframe\u001b[0m\u001b[0;34m)\u001b[0m\u001b[0;34m\u001b[0m\u001b[0m\n\u001b[0m\u001b[1;32m     17\u001b[0m \u001b[0;34m\u001b[0m\u001b[0m\n\u001b[1;32m     18\u001b[0m \u001b[0;32mif\u001b[0m\u001b[0;34m(\u001b[0m\u001b[0mhas_stop_codon\u001b[0m\u001b[0;34m(\u001b[0m\u001b[0mdna\u001b[0m\u001b[0;34m,\u001b[0m \u001b[0mframe\u001b[0m\u001b[0;34m)\u001b[0m\u001b[0;34m)\u001b[0m\u001b[0;34m:\u001b[0m\u001b[0;34m\u001b[0m\u001b[0m\n",
      "\u001b[0;31mValueError\u001b[0m: invalid literal for int() with base 10: ''"
     ]
    }
   ],
   "source": [
    "# Defining function default values with a frame argument equal 0\n",
    "\n",
    "def has_stop_codon(dna, frame=0):\n",
    "    'This function checks if given dna sequence has in frame stop codon'\n",
    "    stop_codon_found = False\n",
    "    stop_codon = ['tga', 'tag', 'taa']\n",
    "    for i in range(frame, len(dna), 3):\n",
    "        codon = dna[i:i+3].lower()\n",
    "        if codon in stop_codon:\n",
    "            stop_codon_found = True\n",
    "            break\n",
    "    return stop_codon_found\n",
    "\n",
    "dna = input('Enter a DNA sequence, please: ')\n",
    "frame = input('Enter a frame, please:')\n",
    "frame = int(frame)\n",
    "\n",
    "if(has_stop_codon(dna, frame)):\n",
    "    print('Input sequence has an in frame stop codon.')\n",
    "else:\n",
    "    print('Input sequence has no in frame stop codon.')"
   ]
  }
 ],
 "metadata": {
  "kernelspec": {
   "display_name": "Python 3",
   "language": "python",
   "name": "python3"
  },
  "language_info": {
   "codemirror_mode": {
    "name": "ipython",
    "version": 3
   },
   "file_extension": ".py",
   "mimetype": "text/x-python",
   "name": "python",
   "nbconvert_exporter": "python",
   "pygments_lexer": "ipython3",
   "version": "3.5.3"
  }
 },
 "nbformat": 4,
 "nbformat_minor": 2
}
