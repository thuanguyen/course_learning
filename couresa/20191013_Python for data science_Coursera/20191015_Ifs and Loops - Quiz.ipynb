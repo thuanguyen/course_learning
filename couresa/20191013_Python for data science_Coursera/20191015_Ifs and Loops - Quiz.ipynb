{
 "cells": [
  {
   "cell_type": "code",
   "execution_count": null,
   "metadata": {},
   "outputs": [],
   "source": [
    "# Q1\n",
    "\n",
    "(rnatype is 'ncRNA' and length>=200) or (rnatype is 'ncRNA' and length==22)"
   ]
  },
  {
   "cell_type": "code",
   "execution_count": null,
   "metadata": {},
   "outputs": [],
   "source": [
    "# Q2\n",
    "if fold > 2 : print(’condition A’)\n",
    "\n",
    "elif fold>100: print(’condition B’)\n",
    "\n",
    "if fold> 2 or fold<2 : print('condition A')\n",
    "\n",
    "else : print(’condition B’)"
   ]
  },
  {
   "cell_type": "code",
   "execution_count": 1,
   "metadata": {},
   "outputs": [
    {
     "name": "stdout",
     "output_type": "stream",
     "text": [
      "11\n"
     ]
    }
   ],
   "source": [
    "# Q3\n",
    "i=1\n",
    "j=0\n",
    "while i< 2048 :\n",
    "    i=2*i\n",
    "    j=j+1\n",
    "    \n",
    "print(j)\n"
   ]
  },
  {
   "cell_type": "code",
   "execution_count": null,
   "metadata": {},
   "outputs": [],
   "source": [
    "# Q4\n",
    "for i in range(1,-23,-3):\n",
    "    print(i)"
   ]
  },
  {
   "cell_type": "code",
   "execution_count": 1,
   "metadata": {},
   "outputs": [
    {
     "name": "stdout",
     "output_type": "stream",
     "text": [
      "Please input the DNA sequence:atgc\n",
      "at\n",
      "atg\n",
      "tg\n",
      "atgc\n",
      "tgc\n",
      "gc\n"
     ]
    }
   ],
   "source": [
    "# Q5 corrected\n",
    "seq = input('Please input the DNA sequence:')\n",
    "for i in range(len(seq)) :     # line 1\n",
    "        for j in range(i) :        # line 2\n",
    "                print(seq[j:i])     # line 3"
   ]
  },
  {
   "cell_type": "code",
   "execution_count": 2,
   "metadata": {},
   "outputs": [
    {
     "name": "stdout",
     "output_type": "stream",
     "text": [
      "Please input the DNA sequence:atgc\n",
      "a\n",
      "at\n",
      "t\n",
      "atg\n",
      "tg\n",
      "g\n",
      "atgc\n",
      "tgc\n",
      "gc\n",
      "c\n"
     ]
    }
   ],
   "source": [
    "# Q6\n",
    "seq = input('Please input the DNA sequence:')\n",
    "i=0\n",
    "while i<len(seq)+1 :\n",
    "      j=0\n",
    "      while(j<i) :\n",
    "                print(seq[j:i])\n",
    "                j=j+1\n",
    "      i=i+1"
   ]
  },
  {
   "cell_type": "code",
   "execution_count": 19,
   "metadata": {},
   "outputs": [],
   "source": [
    "# Q8\n",
    "mylist=[1,2,2,3,4,5] \n",
    "d = {}\n",
    "result = False\n",
    "for x in mylist:\n",
    "    if x in d:\n",
    "        result=True\n",
    "        break\n",
    "    d[x] = True"
   ]
  },
  {
   "cell_type": "code",
   "execution_count": 14,
   "metadata": {},
   "outputs": [
    {
     "name": "stdout",
     "output_type": "stream",
     "text": [
      "small\n"
     ]
    }
   ],
   "source": [
    "# Q9\n",
    "x = 10\n",
    "if x>10 or x<-10: print('big')\n",
    "elif x>1000000: print('very big')\n",
    "elif x<-1000000: print('very big')\n",
    "else : print('small')"
   ]
  },
  {
   "cell_type": "code",
   "execution_count": 16,
   "metadata": {},
   "outputs": [
    {
     "name": "stdout",
     "output_type": "stream",
     "text": [
      "2\n"
     ]
    }
   ],
   "source": [
    "# Q10\n",
    "i = 1\n",
    "while i < 100:\n",
    "          if i%2 == 0 : break\n",
    "          i += 1\n",
    "else:\n",
    "     i=1000\n",
    "        \n",
    "print(i)"
   ]
  },
  {
   "cell_type": "code",
   "execution_count": null,
   "metadata": {},
   "outputs": [],
   "source": []
  }
 ],
 "metadata": {
  "kernelspec": {
   "display_name": "Python 3",
   "language": "python",
   "name": "python3"
  },
  "language_info": {
   "codemirror_mode": {
    "name": "ipython",
    "version": 3
   },
   "file_extension": ".py",
   "mimetype": "text/x-python",
   "name": "python",
   "nbconvert_exporter": "python",
   "pygments_lexer": "ipython3",
   "version": "3.5.3"
  }
 },
 "nbformat": 4,
 "nbformat_minor": 2
}
