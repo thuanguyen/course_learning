{
 "cells": [
  {
   "cell_type": "code",
   "execution_count": 2,
   "metadata": {},
   "outputs": [
    {
     "name": "stdout",
     "output_type": "stream",
     "text": [
      "Comparison operators:\n",
      "Equal comparison: False\n",
      "Not equal comparison: True\n",
      "Lesser than comparison: True\n",
      "\n",
      "Membership operators:\n",
      "Is motif present in dna?: False\n",
      "\n",
      "Identity operator:\n",
      "Case of equal operator: True\n",
      "Case of identity operator: False\n"
     ]
    }
   ],
   "source": [
    "# Boolean expression\n",
    "\n",
    "# Boplean expressions are formed with the help of comparison, identity and membership operators\n",
    "\n",
    "#Comparison operation\n",
    "print('Comparison operators:\\nEqual comparison:','a' == 'A')\n",
    "print('Not equal comparison:', 'GT' != 'AG')\n",
    "print('Lesser than comparison:', 'A' < 'C')\n",
    "\n",
    "# Membership operator: in and not in\n",
    "motif = 'gcttt'\n",
    "dna = 'atatattgtcccattt'\n",
    "print('\\nMembership operators:\\nIs motif present in dna?:',motif in dna)\n",
    "\n",
    "# Identity operators: is or is not\n",
    "alphabet = ['a', 'c', 'g', 't']\n",
    "newalphabet = alphabet[:]\n",
    "print('\\nIdentity operator:\\nCase of equal operator:',alphabet == newalphabet)\n",
    "print('Case of identity operator:', alphabet is newalphabet)\n",
    "\n",
    "# Logical operator: and, or, not (see bellow)"
   ]
  },
  {
   "cell_type": "code",
   "execution_count": 4,
   "metadata": {},
   "outputs": [
    {
     "name": "stdout",
     "output_type": "stream",
     "text": [
      "Enter the DNA sequence:agagagagatatnatacacnacaca\n",
      "dna sequence has 2 undefined bases\n"
     ]
    }
   ],
   "source": [
    "# The if statement\n",
    "\n",
    "dna = input('Enter the DNA sequence:')\n",
    "\n",
    "if 'n' in dna:\n",
    "    nbases = dna.count('n')\n",
    "    print('dna sequence has %d undefined bases' % nbases)\n",
    "    \n",
    "else:\n",
    "    print('dna sequence has no undefined bases')"
   ]
  },
  {
   "cell_type": "code",
   "execution_count": 12,
   "metadata": {},
   "outputs": [
    {
     "name": "stdout",
     "output_type": "stream",
     "text": [
      "Enter the DNA sequence:anN\n",
      "dna sequence has undefined bases\n",
      "Enter the DNA sequence:anN\n",
      "dna sequence has 2 undefined bases\n"
     ]
    }
   ],
   "source": [
    "# Multiple alternative Executions\n",
    "dna = input('Enter the DNA sequence:')\n",
    "\n",
    "if 'n' in dna:\n",
    "    print('dna sequence has undefined bases')\n",
    "elif 'N' in dna:\n",
    "    print('dna sequence has undefined bases')\n",
    "else:\n",
    "    print('dna sequence has no undefined bases')\n",
    "    \n",
    "# An alternative way use logical operator\n",
    "dna = input('Enter the DNA sequence:')\n",
    "\n",
    "if 'n' or 'N' in dna:\n",
    "    nbases = dna.count('n') + dna.count('N')\n",
    "    print('dna sequence has %d undefined bases' % nbases)\n",
    "else:\n",
    "    print('dna sequence has no undefined bases')"
   ]
  },
  {
   "cell_type": "code",
   "execution_count": null,
   "metadata": {},
   "outputs": [],
   "source": []
  }
 ],
 "metadata": {
  "kernelspec": {
   "display_name": "Python 3",
   "language": "python",
   "name": "python3"
  },
  "language_info": {
   "codemirror_mode": {
    "name": "ipython",
    "version": 3
   },
   "file_extension": ".py",
   "mimetype": "text/x-python",
   "name": "python",
   "nbconvert_exporter": "python",
   "pygments_lexer": "ipython3",
   "version": "3.5.3"
  }
 },
 "nbformat": 4,
 "nbformat_minor": 2
}
