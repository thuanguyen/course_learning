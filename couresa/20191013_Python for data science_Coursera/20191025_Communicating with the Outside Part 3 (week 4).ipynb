{
 "cells": [
  {
   "cell_type": "code",
   "execution_count": 1,
   "metadata": {},
   "outputs": [
    {
     "name": "stdout",
     "output_type": "stream",
     "text": [
      "{'yul': 'ATCGATCGATCGTACGATCG', 'sanka': 'GCATCGTAGCTAGCTACGAT', 'derice': 'ACTGACTAGCTAGCTAACTG', 'junior': 'CATCGATCGTACGTACGTAG'}\n"
     ]
    }
   ],
   "source": [
    "# Build a dictionary containg all sequences from a FASTA file\n",
    "\n",
    "try:\n",
    "    f = open('myfile.fa')\n",
    "except IOError:\n",
    "    print('File myfile.fa does not exits!!')\n",
    "\n",
    "seqs = {}\n",
    "for line in f:\n",
    "    # let's discard the new line at the end (if any)\n",
    "    line = line.rstrip()\n",
    "    # distinguish header from sequence\n",
    "    if line[0] == '>':\n",
    "        words = line.split()\n",
    "        name = words[0][1:]\n",
    "        seqs[name] = ''\n",
    "    else: # sequence, not header\n",
    "        seqs[name] = seqs[name] + line\n",
    "f.close()\n",
    "\n",
    "print(seqs)"
   ]
  },
  {
   "cell_type": "code",
   "execution_count": 2,
   "metadata": {},
   "outputs": [
    {
     "name": "stdout",
     "output_type": "stream",
     "text": [
      "yul ATCGATCGATCGTACGATCG\n",
      "sanka GCATCGTAGCTAGCTACGAT\n",
      "derice ACTGACTAGCTAGCTAACTG\n",
      "junior CATCGATCGTACGTACGTAG\n"
     ]
    }
   ],
   "source": [
    "# Retrieve the data from previous-built dictionary\n",
    "\n",
    "for name, seq in seqs.items():\n",
    "    print(name, seq)"
   ]
  },
  {
   "cell_type": "code",
   "execution_count": 12,
   "metadata": {},
   "outputs": [
    {
     "name": "stdout",
     "output_type": "stream",
     "text": [
      "['/usr/local/lib/python3.5/dist-packages/ipykernel_launcher.py', '-f', '/home/thuanguyen1085/.local/share/jupyter/runtime/kernel-d1e03e1f-4218-4f69-a50b-040e64ce96f0.json']\n"
     ]
    }
   ],
   "source": [
    "# Command Line Arguments\n",
    "\n",
    "import sys\n",
    "print(sys.argv)"
   ]
  },
  {
   "cell_type": "code",
   "execution_count": 7,
   "metadata": {},
   "outputs": [
    {
     "ename": "SyntaxError",
     "evalue": "invalid syntax (<ipython-input-7-e63b7574b911>, line 1)",
     "output_type": "error",
     "traceback": [
      "\u001b[0;36m  File \u001b[0;32m\"<ipython-input-7-e63b7574b911>\"\u001b[0;36m, line \u001b[0;32m1\u001b[0m\n\u001b[0;31m    processfasta.py -l 10 myfile.fa\u001b[0m\n\u001b[0m                        ^\u001b[0m\n\u001b[0;31mSyntaxError\u001b[0m\u001b[0;31m:\u001b[0m invalid syntax\n"
     ]
    }
   ],
   "source": [
    "# Using argument in the comman line. An examples which gives a error message\n",
    "\n",
    "processfasta.py -l 250 myfile.fa"
   ]
  },
  {
   "cell_type": "code",
   "execution_count": 21,
   "metadata": {},
   "outputs": [],
   "source": [
    "# Usage definition for processfasta.py\n",
    "\n",
    "def usage():\n",
    "    print('''\n",
    "    processfasta.py : reads a FASTA file and builds a dictionary with all sequences bigger than a given length\n",
    "    \n",
    "    processfasta.py [-h] [-l <length>] <filename>\n",
    "    \n",
    "    -h             print this message\n",
    "    -l <length>    filter all sequences with a length lesser than <length>\n",
    "                   (default <length>=0)\n",
    "    <filename>     the file has to be in FASTA format\n",
    "    ''')"
   ]
  },
  {
   "cell_type": "code",
   "execution_count": 20,
   "metadata": {},
   "outputs": [
    {
     "ename": "SyntaxError",
     "evalue": "invalid syntax (<ipython-input-20-1a91a5271250>, line 7)",
     "output_type": "error",
     "traceback": [
      "\u001b[0;36m  File \u001b[0;32m\"<ipython-input-20-1a91a5271250>\"\u001b[0;36m, line \u001b[0;32m7\u001b[0m\n\u001b[0;31m    def usage() ... # as in above\u001b[0m\n\u001b[0m                  ^\u001b[0m\n\u001b[0;31mSyntaxError\u001b[0m\u001b[0;31m:\u001b[0m invalid syntax\n"
     ]
    }
   ],
   "source": [
    "# getopt usage example\n",
    "\n",
    "#!/usr/bin/python\n",
    "\n",
    "import sys\n",
    "import getopt\n",
    "def usage() ... # as in above\n",
    "\n",
    "o, a = getopt.getopt(sys.argv[1:], 'l:h')\n",
    "opts = {}\n",
    "seqlen = 0\n",
    "\n",
    "for k,v in o:\n",
    "    opts[k] = v\n",
    "if '-h' in opts.key():\n",
    "    usage(); sys.exit()\n",
    "    \n",
    "if ;len(a)<1:\n",
    "    usage(); sys.exit('Input data is missing')\n",
    "    \n",
    "if '-l' in opts[key]:\n",
    "    if int(opt['-l'])<0:\n",
    "        print('Length of sequence should be positive!'); sys.exit(0)\n",
    "    seqlen = opts['-l']"
   ]
  },
  {
   "cell_type": "code",
   "execution_count": 19,
   "metadata": {},
   "outputs": [
    {
     "name": "stdout",
     "output_type": "stream",
     "text": [
      "Some useful output.\n"
     ]
    },
    {
     "name": "stderr",
     "output_type": "stream",
     "text": [
      "Warning: input file was not found.\n"
     ]
    }
   ],
   "source": [
    "# Using the system environment\n",
    "\n",
    "import sys\n",
    "sys.stdin.read()\n",
    "\n",
    "sys.stdout.write('Some useful output.\\n')\n",
    "\n",
    "sys.stderr.write('Warning: input file was not found.\\n')"
   ]
  },
  {
   "cell_type": "code",
   "execution_count": 23,
   "metadata": {},
   "outputs": [
    {
     "ename": "FileNotFoundError",
     "evalue": "[Errno 2] No such file or directory: 'tophat'",
     "output_type": "error",
     "traceback": [
      "\u001b[0;31m---------------------------------------------------------------------------\u001b[0m",
      "\u001b[0;31mFileNotFoundError\u001b[0m                         Traceback (most recent call last)",
      "\u001b[0;32m<ipython-input-23-e862895f0f1a>\u001b[0m in \u001b[0;36m<module>\u001b[0;34m\u001b[0m\n\u001b[1;32m      5\u001b[0m \u001b[0;31m# a more realistic call\u001b[0m\u001b[0;34m\u001b[0m\u001b[0;34m\u001b[0m\u001b[0m\n\u001b[1;32m      6\u001b[0m \u001b[0;34m\u001b[0m\u001b[0m\n\u001b[0;32m----> 7\u001b[0;31m \u001b[0msubprocess\u001b[0m\u001b[0;34m.\u001b[0m\u001b[0mcall\u001b[0m\u001b[0;34m(\u001b[0m\u001b[0;34m[\u001b[0m\u001b[0;34m'tophat'\u001b[0m\u001b[0;34m,\u001b[0m \u001b[0;34m'genome_mouse_idx'\u001b[0m\u001b[0;34m,\u001b[0m \u001b[0;34m'PE_reads_1.fq.gz'\u001b[0m\u001b[0;34m,\u001b[0m \u001b[0;34m'PE_reads_1.fq.gz'\u001b[0m\u001b[0;34m]\u001b[0m\u001b[0;34m)\u001b[0m\u001b[0;34m\u001b[0m\u001b[0m\n\u001b[0m",
      "\u001b[0;32m/usr/lib/python3.5/subprocess.py\u001b[0m in \u001b[0;36mcall\u001b[0;34m(timeout, *popenargs, **kwargs)\u001b[0m\n\u001b[1;32m    245\u001b[0m     \u001b[0mretcode\u001b[0m \u001b[0;34m=\u001b[0m \u001b[0mcall\u001b[0m\u001b[0;34m(\u001b[0m\u001b[0;34m[\u001b[0m\u001b[0;34m\"ls\"\u001b[0m\u001b[0;34m,\u001b[0m \u001b[0;34m\"-l\"\u001b[0m\u001b[0;34m]\u001b[0m\u001b[0;34m)\u001b[0m\u001b[0;34m\u001b[0m\u001b[0m\n\u001b[1;32m    246\u001b[0m     \"\"\"\n\u001b[0;32m--> 247\u001b[0;31m     \u001b[0;32mwith\u001b[0m \u001b[0mPopen\u001b[0m\u001b[0;34m(\u001b[0m\u001b[0;34m*\u001b[0m\u001b[0mpopenargs\u001b[0m\u001b[0;34m,\u001b[0m \u001b[0;34m**\u001b[0m\u001b[0mkwargs\u001b[0m\u001b[0;34m)\u001b[0m \u001b[0;32mas\u001b[0m \u001b[0mp\u001b[0m\u001b[0;34m:\u001b[0m\u001b[0;34m\u001b[0m\u001b[0m\n\u001b[0m\u001b[1;32m    248\u001b[0m         \u001b[0;32mtry\u001b[0m\u001b[0;34m:\u001b[0m\u001b[0;34m\u001b[0m\u001b[0m\n\u001b[1;32m    249\u001b[0m             \u001b[0;32mreturn\u001b[0m \u001b[0mp\u001b[0m\u001b[0;34m.\u001b[0m\u001b[0mwait\u001b[0m\u001b[0;34m(\u001b[0m\u001b[0mtimeout\u001b[0m\u001b[0;34m=\u001b[0m\u001b[0mtimeout\u001b[0m\u001b[0;34m)\u001b[0m\u001b[0;34m\u001b[0m\u001b[0m\n",
      "\u001b[0;32m/usr/lib/python3.5/subprocess.py\u001b[0m in \u001b[0;36m__init__\u001b[0;34m(self, args, bufsize, executable, stdin, stdout, stderr, preexec_fn, close_fds, shell, cwd, env, universal_newlines, startupinfo, creationflags, restore_signals, start_new_session, pass_fds)\u001b[0m\n\u001b[1;32m    674\u001b[0m                                 \u001b[0mc2pread\u001b[0m\u001b[0;34m,\u001b[0m \u001b[0mc2pwrite\u001b[0m\u001b[0;34m,\u001b[0m\u001b[0;34m\u001b[0m\u001b[0m\n\u001b[1;32m    675\u001b[0m                                 \u001b[0merrread\u001b[0m\u001b[0;34m,\u001b[0m \u001b[0merrwrite\u001b[0m\u001b[0;34m,\u001b[0m\u001b[0;34m\u001b[0m\u001b[0m\n\u001b[0;32m--> 676\u001b[0;31m                                 restore_signals, start_new_session)\n\u001b[0m\u001b[1;32m    677\u001b[0m         \u001b[0;32mexcept\u001b[0m\u001b[0;34m:\u001b[0m\u001b[0;34m\u001b[0m\u001b[0m\n\u001b[1;32m    678\u001b[0m             \u001b[0;31m# Cleanup if the child failed starting.\u001b[0m\u001b[0;34m\u001b[0m\u001b[0;34m\u001b[0m\u001b[0m\n",
      "\u001b[0;32m/usr/lib/python3.5/subprocess.py\u001b[0m in \u001b[0;36m_execute_child\u001b[0;34m(self, args, executable, preexec_fn, close_fds, pass_fds, cwd, env, startupinfo, creationflags, shell, p2cread, p2cwrite, c2pread, c2pwrite, errread, errwrite, restore_signals, start_new_session)\u001b[0m\n\u001b[1;32m   1280\u001b[0m                             \u001b[0;32melse\u001b[0m\u001b[0;34m:\u001b[0m\u001b[0;34m\u001b[0m\u001b[0m\n\u001b[1;32m   1281\u001b[0m                                 \u001b[0merr_msg\u001b[0m \u001b[0;34m+=\u001b[0m \u001b[0;34m': '\u001b[0m \u001b[0;34m+\u001b[0m \u001b[0mrepr\u001b[0m\u001b[0;34m(\u001b[0m\u001b[0morig_executable\u001b[0m\u001b[0;34m)\u001b[0m\u001b[0;34m\u001b[0m\u001b[0m\n\u001b[0;32m-> 1282\u001b[0;31m                     \u001b[0;32mraise\u001b[0m \u001b[0mchild_exception_type\u001b[0m\u001b[0;34m(\u001b[0m\u001b[0merrno_num\u001b[0m\u001b[0;34m,\u001b[0m \u001b[0merr_msg\u001b[0m\u001b[0;34m)\u001b[0m\u001b[0;34m\u001b[0m\u001b[0m\n\u001b[0m\u001b[1;32m   1283\u001b[0m                 \u001b[0;32mraise\u001b[0m \u001b[0mchild_exception_type\u001b[0m\u001b[0;34m(\u001b[0m\u001b[0merr_msg\u001b[0m\u001b[0;34m)\u001b[0m\u001b[0;34m\u001b[0m\u001b[0m\n\u001b[1;32m   1284\u001b[0m \u001b[0;34m\u001b[0m\u001b[0m\n",
      "\u001b[0;31mFileNotFoundError\u001b[0m: [Errno 2] No such file or directory: 'tophat'"
     ]
    }
   ],
   "source": [
    "# Interfacing with external programs\n",
    "import subprocess\n",
    "subprocess.call(['ls', '-l'])\n",
    "\n",
    "# a more realistic call\n",
    "\n",
    "subprocess.call(['tophat', 'genome_mouse_idx', 'PE_reads_1.fq.gz', 'PE_reads_1.fq.gz'])"
   ]
  },
  {
   "cell_type": "code",
   "execution_count": null,
   "metadata": {},
   "outputs": [],
   "source": []
  }
 ],
 "metadata": {
  "kernelspec": {
   "display_name": "Python 3",
   "language": "python",
   "name": "python3"
  },
  "language_info": {
   "codemirror_mode": {
    "name": "ipython",
    "version": 3
   },
   "file_extension": ".py",
   "mimetype": "text/x-python",
   "name": "python",
   "nbconvert_exporter": "python",
   "pygments_lexer": "ipython3",
   "version": "3.5.3"
  }
 },
 "nbformat": 4,
 "nbformat_minor": 2
}
