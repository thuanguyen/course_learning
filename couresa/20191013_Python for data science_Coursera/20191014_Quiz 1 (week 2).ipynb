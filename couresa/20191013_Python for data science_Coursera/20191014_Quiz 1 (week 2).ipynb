{
 "cells": [
  {
   "cell_type": "code",
   "execution_count": 1,
   "metadata": {},
   "outputs": [
    {
     "name": "stdout",
     "output_type": "stream",
     "text": [
      "[1e-10, (1, 2), 'BGP', [3]]\n"
     ]
    }
   ],
   "source": [
    "# Q1\n",
    "q1 = [1e-10,(1,2),\"BGP\",[3]]\n",
    "print(q1)"
   ]
  },
  {
   "cell_type": "code",
   "execution_count": 2,
   "metadata": {},
   "outputs": [
    {
     "name": "stdout",
     "output_type": "stream",
     "text": [
      "90.0\n"
     ]
    }
   ],
   "source": [
    "# Q2\n",
    "grades = [70,80.0,90,100]\n",
    "print((grades[1]+grades[3])/2)"
   ]
  },
  {
   "cell_type": "code",
   "execution_count": 5,
   "metadata": {},
   "outputs": [
    {
     "name": "stdout",
     "output_type": "stream",
     "text": [
      "['GT-AG', 'GC-AG']\n"
     ]
    }
   ],
   "source": [
    "# Q3\n",
    "slice = ['GT-AG','GC-AG','AT-AC']\n",
    "print(slice[:-1])"
   ]
  },
  {
   "cell_type": "code",
   "execution_count": 6,
   "metadata": {},
   "outputs": [
    {
     "ename": "SyntaxError",
     "evalue": "invalid syntax (<ipython-input-6-ac035698d344>, line 5)",
     "output_type": "error",
     "traceback": [
      "\u001b[0;36m  File \u001b[0;32m\"<ipython-input-6-ac035698d344>\"\u001b[0;36m, line \u001b[0;32m5\u001b[0m\n\u001b[0;31m    print len(t)\u001b[0m\n\u001b[0m            ^\u001b[0m\n\u001b[0;31mSyntaxError\u001b[0m\u001b[0;31m:\u001b[0m invalid syntax\n"
     ]
    }
   ],
   "source": [
    "# Q5\n",
    "t = ('a', 'c', 'g', 't')\n",
    "t.append( ('A','C','G','T') )\n",
    "\n",
    "print len(t)"
   ]
  },
  {
   "cell_type": "code",
   "execution_count": 7,
   "metadata": {},
   "outputs": [
    {
     "name": "stdout",
     "output_type": "stream",
     "text": [
      "Enter DNA sequence:gcgcgtatata\n",
      "t\n"
     ]
    }
   ],
   "source": [
    "# Q6\n",
    "dna=input(\"Enter DNA sequence:\")\n",
    "\n",
    "dna_counts={'t':dna.count('t'),'c':dna.count('c'),'g':dna.count('g'),'a':dna.count('a')}\n",
    "\n",
    "nt=sorted(dna_counts.keys())\n",
    "\n",
    "print(nt[-1])"
   ]
  },
  {
   "cell_type": "code",
   "execution_count": null,
   "metadata": {},
   "outputs": [],
   "source": [
    "# Q7\n",
    "dna_counts={'g': 13, 'c': 3, 't': 1, 'a': 16}\n",
    "del dna_count['a']"
   ]
  },
  {
   "cell_type": "code",
   "execution_count": 19,
   "metadata": {},
   "outputs": [
    {
     "name": "stdout",
     "output_type": "stream",
     "text": [
      "Enter DNA sequence:agagatatatacacaca\n",
      "[2, 3, 3, 9]\n"
     ]
    }
   ],
   "source": [
    "# Q8\n",
    "dna = input(\"Enter DNA sequence:\")\n",
    "dna_counts = {'t':dna.count('t'),'c':dna.count('c'),'g':dna.count('g'),'a':dna.count('a')}\n",
    "\n",
    "max_freq=sorted(dna_counts.values())[-1]\n",
    "print(max_freq)"
   ]
  },
  {
   "cell_type": "code",
   "execution_count": 20,
   "metadata": {},
   "outputs": [
    {
     "name": "stdout",
     "output_type": "stream",
     "text": [
      "{'cheese': 'Dairy', 'Cheese': 'Dairy'}\n"
     ]
    }
   ],
   "source": [
    "# Q10\n",
    "someData = { }\n",
    "someData['cheese'] = 'dairy'\n",
    "someData['Cheese'] = 'dairy'\n",
    "someData['Cheese'] = 'Dairy'\n",
    "someData['cheese'] = 'Dairy'\n",
    "\n",
    "print(someData)"
   ]
  }
 ],
 "metadata": {
  "kernelspec": {
   "display_name": "Python 3",
   "language": "python",
   "name": "python3"
  },
  "language_info": {
   "codemirror_mode": {
    "name": "ipython",
    "version": 3
   },
   "file_extension": ".py",
   "mimetype": "text/x-python",
   "name": "python",
   "nbconvert_exporter": "python",
   "pygments_lexer": "ipython3",
   "version": "3.5.3"
  }
 },
 "nbformat": 4,
 "nbformat_minor": 2
}
