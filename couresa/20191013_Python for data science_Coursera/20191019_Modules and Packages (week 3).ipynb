{
 "cells": [
  {
   "cell_type": "code",
   "execution_count": null,
   "metadata": {},
   "outputs": [],
   "source": [
    "'''\n",
    "dnautil module contains a few useful function for dna sequence\n",
    "'''\n",
    "\n",
    "def gc(dna):\n",
    "    'This function compute the gc percentage of a dna sequence'\n",
    "    nbases = dna.count('n') + dna.count('N')\n",
    "    gcpercent = (dna.count('g') + dna.count('G') + dna.count('c') + dna.count('C')) * 100 / (len(dna) - nbases)\n",
    "    return gcpercent\n",
    "\n",
    "def has_stop_codon(dna,frame):\n",
    "    'This function check if given dna sequence has in frame stop codon'\n",
    "    stop_codon_found = False\n",
    "    stop_codon = ['tga', 'tag', 'taa']\n",
    "    for i in range(0, len(dna), 3):\n",
    "        codon = dna[i:i+3].lower()\n",
    "        if codon in stop_codon:\n",
    "            stop_codon_found = True\n",
    "            break\n",
    "    return stop_codon_found"
   ]
  },
  {
   "cell_type": "code",
   "execution_count": 17,
   "metadata": {},
   "outputs": [
    {
     "data": {
      "text/plain": [
       "['/usr/lib/python35.zip',\n",
       " '/usr/lib/python3.5',\n",
       " '/usr/lib/python3.5/plat-x86_64-linux-gnu',\n",
       " '/usr/lib/python3.5/lib-dynload',\n",
       " '',\n",
       " '/usr/local/lib/python3.5/dist-packages',\n",
       " '/usr/lib/python3/dist-packages',\n",
       " '/usr/local/lib/python3.5/dist-packages/IPython/extensions',\n",
       " '/home/thuanguyen1085/.ipython',\n",
       " '/home/thuanguyen1085/Documents/20191013_Python for data science_Coursera']"
      ]
     },
     "execution_count": 17,
     "metadata": {},
     "output_type": "execute_result"
    }
   ],
   "source": [
    "# Path for module is /home/thuanguyen1085/Documents/\n",
    "\n",
    "import sys\n",
    "sys.path # check the search path\n",
    "\n",
    "sys.path.append('/home/thuanguyen1085/Documents/20191013_Python for data science_Coursera') #Add the path for module\n",
    "'''sys.path.remove('/home/thuanguyen1085/Documents/20191013_Python for data science_Coursera') #Remove the path for module\n",
    "'''\n",
    "sys.path # again check the path"
   ]
  },
  {
   "cell_type": "code",
   "execution_count": 18,
   "metadata": {},
   "outputs": [
    {
     "name": "stdout",
     "output_type": "stream",
     "text": [
      "62.5\n",
      "38.888888888888886\n"
     ]
    }
   ],
   "source": [
    "# Import the module\n",
    "\n",
    "from dnautil import * #import every function from module dnautil\n",
    "\n",
    "print(gc('gctctcga'))\n",
    "\n",
    "# import some specific functions from dnautil\n",
    "from dnautil import gc,has_stop_codon\n",
    "\n",
    "print(gc('gagagagataacacatag'))"
   ]
  },
  {
   "cell_type": "code",
   "execution_count": null,
   "metadata": {},
   "outputs": [],
   "source": [
    "# Package example\n",
    "\n",
    "bioseq/\n",
    "\n",
    "__init__.py\n",
    "dnautil.py\n",
    "rnautil.py\n",
    "proteinutil.py\n",
    "...\n",
    "\n",
    "fasta/ #submodule\n",
    "  __init__.py\n",
    "    fastautil.py\n",
    "    \n",
    "fastq/ #submodule\n",
    "  __init__.py\n",
    "    fastqutil.py  \n",
    "    \n",
    "# How to call these package\n",
    "import bioseq.dnautil\n",
    "\n",
    "\n",
    "# or\n",
    "from bioseq import dnautil\n",
    "\n",
    "# or import specific function from a submodule in subpackage\n",
    "from bioseq.fasta.fastautil import fastaseqread"
   ]
  }
 ],
 "metadata": {
  "kernelspec": {
   "display_name": "Python 3",
   "language": "python",
   "name": "python3"
  },
  "language_info": {
   "codemirror_mode": {
    "name": "ipython",
    "version": 3
   },
   "file_extension": ".py",
   "mimetype": "text/x-python",
   "name": "python",
   "nbconvert_exporter": "python",
   "pygments_lexer": "ipython3",
   "version": "3.5.3"
  }
 },
 "nbformat": 4,
 "nbformat_minor": 2
}
