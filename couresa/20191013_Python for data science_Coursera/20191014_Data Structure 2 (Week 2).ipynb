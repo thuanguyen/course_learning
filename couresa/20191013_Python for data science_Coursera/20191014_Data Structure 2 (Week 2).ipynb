{
 "cells": [
  {
   "cell_type": "code",
   "execution_count": 1,
   "metadata": {},
   "outputs": [
    {
     "name": "stdout",
     "output_type": "stream",
     "text": [
      "(1, 2, 3)\n",
      "(1, 2, 3)\n"
     ]
    }
   ],
   "source": [
    "# Tuples: non-mutable\n",
    "\n",
    "t = 1,2,3\n",
    "print(t)\n",
    "\n",
    "t = (1,2,3)\n",
    "print(t)"
   ]
  },
  {
   "cell_type": "code",
   "execution_count": 2,
   "metadata": {},
   "outputs": [
    {
     "name": "stdout",
     "output_type": "stream",
     "text": [
      "An example of set:\n",
      " {'protein ubiquitination', 'ubiquitin-protein transferase activity', 'DNA repair', 'zinc ion binding', 'DNA binding'}\n",
      "\n",
      "Operation with Sets: union:\n",
      " {'H4 histone acetyltransferase activity', 'zinc ion binding', 'nucleoplasm', 'DNA binding', 'ubiquitin-protein transferase activity', 'double-strand break repair via homologous recombination', 'double-strand break repair', 'protein ubiquitination', 'DNA repair', 'protein binding'}\n",
      "\n",
      "Operation with Sets: intersection:\n",
      " {'DNA repair'}\n",
      "\n",
      "Operation with Sets: difference:\n",
      " {'protein ubiquitination', 'DNA binding', 'zinc ion binding', 'ubiquitin-protein transferase activity'}\n"
     ]
    }
   ],
   "source": [
    "# Sets: unordered, non-duplicated\n",
    "\n",
    "brca1 = {'DNA repair', 'zinc ion binding', 'DNA binding','ubiquitin-protein transferase activity', 'DNA repair', \n",
    "         'protein ubiquitination'}\n",
    "\n",
    "print('An example of set:\\n', brca1)\n",
    "\n",
    "brca2 = {'protein binding', 'H4 histone acetyltransferase activity', 'nucleoplasm', 'DNA repair',\n",
    "         'double-strand break repair', 'double-strand break repair via homologous recombination'}\n",
    "\n",
    "# Operation with Sets: union\n",
    "brca1 | brca2\n",
    "print('\\nOperation with Sets: union:\\n', brca1 | brca2)\n",
    "\n",
    "# Operation with Sets: intersection\n",
    "brca1 & brca2\n",
    "print('\\nOperation with Sets: intersection:\\n',brca1 & brca2)\n",
    "\n",
    "# Operation with Sets: difference\n",
    "brca1 - brca2\n",
    "print('\\nOperation with Sets: difference:\\n', brca1 - brca2)"
   ]
  },
  {
   "cell_type": "code",
   "execution_count": 14,
   "metadata": {},
   "outputs": [
    {
     "name": "stdout",
     "output_type": "stream",
     "text": [
      "Create a dictionary:\n",
      " {'c-Myc': 'cacgtg', 'ATF': 'tgacgtca', 'C/EBP': 'attgcgcaat', 'SP1': 'gggcgg', 'Oct-1': 'atgcaaat'}\n",
      "\n",
      "The recognition sequence for the ATF transcription is tgacgtca\n",
      "\n",
      "Added dictionary:\n",
      " {'c-Myc': 'cacgtg', 'ATF': 'tgacgtca', 'C/EBP': 'attgcgcaat', 'SP1': 'gggcgg', 'AP-1': 'tgagtca'}\n",
      "\n",
      "Modified dictionary:\n",
      " {'c-Myc': 'cacgtg', 'ATF': 'tgacgtca', 'C/EBP': 'attgcgcaat', 'SP1': 'gggcgg', 'AP-1': 'tga(g/c)tca'}\n",
      "\n",
      "Deleted dictionary:\n",
      " {'c-Myc': 'cacgtg', 'ATF': 'tgacgtca', 'C/EBP': 'attgcgcaat', 'AP-1': 'tga(g/c)tca'}\n",
      "\n",
      "Updated dictionary:\n",
      " {'c-Myc': 'cacgtg', 'SP1': 'gggcgg', 'Oct-1': 'atgcaaa', 'AP-1': 'tga(g/c)tca', 'ATF': 'tgacgtca', 'C/EBP': 'attgcgcaat'}\n",
      "\n",
      "Length of the dictionary: 6\n",
      "\n",
      "All the keys in dictionary:\n",
      " ['c-Myc', 'SP1', 'Oct-1', 'AP-1', 'ATF', 'C/EBP']\n",
      "\n",
      "All the values in dictionary\n",
      " ['cacgtg', 'gggcgg', 'atgcaaa', 'tga(g/c)tca', 'tgacgtca', 'attgcgcaat']\n",
      "\n",
      "Sorted key list:\n",
      " ['AP-1', 'ATF', 'C/EBP', 'Oct-1', 'SP1', 'c-Myc']\n",
      "\n",
      "Sorted values list:\n",
      " ['atgcaaa', 'attgcgcaat', 'cacgtg', 'gggcgg', 'tga(g/c)tca', 'tgacgtca']\n"
     ]
    }
   ],
   "source": [
    "# Dictionaries is an unordered et of keys and values\n",
    "\n",
    "# Create a dictionary\n",
    "TF_motif = {'SP1': 'gggcgg',\n",
    "            'C/EBP' : 'attgcgcaat',\n",
    "           'ATF' : 'tgacgtca',\n",
    "           'c-Myc' : 'cacgtg',\n",
    "           'Oct-1' : 'atgcaaat'}\n",
    "print('Create a dictionary:\\n', TF_motif)\n",
    "\n",
    "# Accessing a value from dictionary\n",
    "print('\\nThe recognition sequence for the ATF transcription is %s' %TF_motif['ATF'])\n",
    "\n",
    "# Check if the key present!\n",
    "'NF-1' in TF_motif\n",
    "\n",
    "# Adding a new key:value pair to a dictionary\n",
    "TF_motif = {'SP1': 'gggcgg',\n",
    "            'C/EBP' : 'attgcgcaat',\n",
    "           'ATF' : 'tgacgtca',\n",
    "           'c-Myc' : 'cacgtg'}\n",
    "TF_motif['AP-1'] = 'tgagtca'\n",
    "print('\\nAdded dictionary:\\n', TF_motif)\n",
    "\n",
    "# Modified an existing entry\n",
    "TF_motif['AP-1'] = 'tga(g/c)tca'\n",
    "print('\\nModified dictionary:\\n', TF_motif)\n",
    "\n",
    "# Delete\n",
    "del TF_motif['SP1']\n",
    "print('\\nDeleted dictionary:\\n', TF_motif)\n",
    "\n",
    "# Add another dictionary\n",
    "TF_motif.update({'SP1' : 'gggcgg', 'C/EBP' : 'attgcgcaat', 'Oct-1' : 'atgcaaa'})\n",
    "print('\\nUpdated dictionary:\\n', TF_motif)\n",
    "\n",
    "# List all elements in a dictionary\n",
    "print('\\nLength of the dictionary:', len(TF_motif))\n",
    "\n",
    "# Get the list of all keys\n",
    "print('\\nAll the keys in dictionary:\\n', list(TF_motif.keys()))\n",
    "\n",
    "# Get the list of all values\n",
    "print('\\nAll the values in dictionary\\n', list(TF_motif.values()))\n",
    "\n",
    "# Make key sorted\n",
    "print('\\nSorted key list:\\n', sorted(TF_motif.keys()))\n",
    "\n",
    "# Make values sorted\n",
    "print('\\nSorted values list:\\n', sorted(TF_motif.values()))"
   ]
  },
  {
   "cell_type": "code",
   "execution_count": null,
   "metadata": {},
   "outputs": [],
   "source": []
  }
 ],
 "metadata": {
  "kernelspec": {
   "display_name": "Python 3",
   "language": "python",
   "name": "python3"
  },
  "language_info": {
   "codemirror_mode": {
    "name": "ipython",
    "version": 3
   },
   "file_extension": ".py",
   "mimetype": "text/x-python",
   "name": "python",
   "nbconvert_exporter": "python",
   "pygments_lexer": "ipython3",
   "version": "3.5.3"
  }
 },
 "nbformat": 4,
 "nbformat_minor": 2
}
