{
 "cells": [
  {
   "cell_type": "code",
   "execution_count": 1,
   "metadata": {},
   "outputs": [
    {
     "data": {
      "text/plain": [
       "<_io.TextIOWrapper name='question3.tar.gz' mode='a' encoding='UTF-8'>"
      ]
     },
     "execution_count": 1,
     "metadata": {},
     "output_type": "execute_result"
    }
   ],
   "source": [
    "open('question3.tar.gz', 'a')"
   ]
  },
  {
   "cell_type": "code",
   "execution_count": 22,
   "metadata": {},
   "outputs": [
    {
     "name": "stdout",
     "output_type": "stream",
     "text": [
      "gz\n",
      "question3\n"
     ]
    }
   ],
   "source": [
    "# Q3\n",
    "\n",
    "def get_extension1(filename):\n",
    "    return(filename.split(\".\")[-1])\n",
    "\n",
    "print(get_extension1('question3.tar.gz'))\n",
    "print(get_extension1('question3'))"
   ]
  },
  {
   "cell_type": "code",
   "execution_count": 23,
   "metadata": {},
   "outputs": [
    {
     "name": "stdout",
     "output_type": "stream",
     "text": [
      ".gz\n",
      "\n"
     ]
    }
   ],
   "source": [
    "def get_extension2(filename):\n",
    "    import os.path\n",
    "    return(os.path.splitext(filename)[1])\n",
    "\n",
    "print(get_extension2('question3.tar.gz'))\n",
    "print(get_extension2('question3'))"
   ]
  },
  {
   "cell_type": "code",
   "execution_count": 21,
   "metadata": {},
   "outputs": [
    {
     "name": "stdout",
     "output_type": "stream",
     "text": [
      "gz\n",
      "\n"
     ]
    }
   ],
   "source": [
    "def get_extension3(filename):\n",
    "    return filename[filename.rfind('.'):][1:]\n",
    "\n",
    "print(get_extension3('question3.tar.gz'))\n",
    "print(get_extension3('question3'))"
   ]
  },
  {
   "cell_type": "code",
   "execution_count": null,
   "metadata": {},
   "outputs": [],
   "source": [
    "# Q5\n",
    "import os\n",
    "filenames = os.listdir('Documents')\n",
    "f= open(filenames[0])"
   ]
  }
 ],
 "metadata": {
  "kernelspec": {
   "display_name": "Python 3",
   "language": "python",
   "name": "python3"
  },
  "language_info": {
   "codemirror_mode": {
    "name": "ipython",
    "version": 3
   },
   "file_extension": ".py",
   "mimetype": "text/x-python",
   "name": "python",
   "nbconvert_exporter": "python",
   "pygments_lexer": "ipython3",
   "version": "3.5.3"
  }
 },
 "nbformat": 4,
 "nbformat_minor": 2
}
